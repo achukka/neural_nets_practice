{
 "metadata": {
  "name": "",
  "signature": "sha256:5aaa036f58da66eb8d06f7f879002441718312f6997b6ec190c81477fd0424e9"
 },
 "nbformat": 3,
 "nbformat_minor": 0,
 "worksheets": [
  {
   "cells": [
    {
     "cell_type": "code",
     "collapsed": false,
     "input": [
      "import csv\n",
      "import numpy as np"
     ],
     "language": "python",
     "metadata": {},
     "outputs": [],
     "prompt_number": 1
    },
    {
     "cell_type": "code",
     "collapsed": false,
     "input": [
      "def load_data(filename):\n",
      "    fp = open(filename, 'rb')\n",
      "    data = csv.reader(fp, delimiter=',')\n",
      "    data_x = []\n",
      "    data_y = []\n",
      "    index = 0\n",
      "    next(data)\n",
      "    for row in data:\n",
      "        data_y.append(int(row[0]))\n",
      "        cols = np.zeros(784)\n",
      "        for num in range(784):\n",
      "            cols[num] = float(row[num+1])/255.0\n",
      "        data_x.append(cols)\n",
      "    fp.close()\n",
      "    return np.asarray(data_x), np.asarray(data_y)\n",
      "\n",
      "def load_data_wrapper(train_file, test_file, train_percentage):\n",
      "    train_x, train_y = load_data(train_file)\n",
      "    rows = int(train_percentage*len(train_x))\n",
      "    training_data_inputs = [ np.reshape(x, (784,1)) for x in train_x[:rows] ]\n",
      "    training_data_results = [vectorized(y) for y in train_y[:rows]]\n",
      "    training_data = zip(training_data_inputs, training_data_results)\n",
      "    valdiation_inputs = [np.reshape(x, (784,1)) for x in train_x[rows:]]\n",
      "    validation_data = zip(valdiation_inputs, train_y[rows:])\n",
      "    tst_dt = load_test_data(test_file)\n",
      "    test_data = [ np.reshape(x, (784, 1)) for x in tst_dt]\n",
      "    return (training_data, validation_data, test_data)\n",
      "\n",
      "def vectorized(d):\n",
      "    vec = np.zeros((10, 1))\n",
      "    vec[d] = 1.0\n",
      "    return vec\n",
      "\n",
      "\n",
      "def load_test_data(filename):\n",
      "    fp = open(filename, 'rb')\n",
      "    data = csv.reader(fp, delimiter=',')\n",
      "    data_x = []\n",
      "    data_y = []\n",
      "    index = 0\n",
      "    next(data)\n",
      "    for row in data:\n",
      "        data_y.append(np.random.randint(0,10))\n",
      "        cols = []\n",
      "        for col in row:\n",
      "            cols.append(float(col)/255.0)\n",
      "        data_x.append(cols)\n",
      "    fp.close()\n",
      "    return np.asarray(data_x), np.asarray(data_y)"
     ],
     "language": "python",
     "metadata": {},
     "outputs": [],
     "prompt_number": 2
    },
    {
     "cell_type": "code",
     "collapsed": false,
     "input": [
      "train_file = '../data/train.csv'\n",
      "test_file = '../data/test.csv'"
     ],
     "language": "python",
     "metadata": {},
     "outputs": [],
     "prompt_number": 3
    },
    {
     "cell_type": "code",
     "collapsed": false,
     "input": [
      "\n",
      "training_data, validation_data, test_data = load_data_wrapper(train_file, test_file, 1.0)"
     ],
     "language": "python",
     "metadata": {},
     "outputs": [],
     "prompt_number": 3
    },
    {
     "cell_type": "code",
     "collapsed": false,
     "input": [
      "import basic_neural_network"
     ],
     "language": "python",
     "metadata": {},
     "outputs": [],
     "prompt_number": 3
    },
    {
     "cell_type": "code",
     "collapsed": false,
     "input": [
      "net = basic_neural_network.Network([784, 30, 10])"
     ],
     "language": "python",
     "metadata": {},
     "outputs": [],
     "prompt_number": 94
    },
    {
     "cell_type": "code",
     "collapsed": false,
     "input": [
      "epochs = 30\n",
      "mini_batch_size = 10\n",
      "eta = 1.0"
     ],
     "language": "python",
     "metadata": {},
     "outputs": [],
     "prompt_number": 95
    },
    {
     "cell_type": "code",
     "collapsed": false,
     "input": [
      "net.StochasticGradientDescent(training_data, epochs, mini_batch_size, eta, test_data=None)"
     ],
     "language": "python",
     "metadata": {},
     "outputs": [
      {
       "output_type": "stream",
       "stream": "stdout",
       "text": [
        "Epoch 0 Complete\n",
        "Epoch 1 Complete"
       ]
      },
      {
       "output_type": "stream",
       "stream": "stdout",
       "text": [
        "\n",
        "Epoch 2 Complete"
       ]
      },
      {
       "output_type": "stream",
       "stream": "stdout",
       "text": [
        "\n",
        "Epoch 3 Complete"
       ]
      },
      {
       "output_type": "stream",
       "stream": "stdout",
       "text": [
        "\n",
        "Epoch 4 Complete"
       ]
      },
      {
       "output_type": "stream",
       "stream": "stdout",
       "text": [
        "\n",
        "Epoch 5 Complete"
       ]
      },
      {
       "output_type": "stream",
       "stream": "stdout",
       "text": [
        "\n",
        "Epoch 6 Complete"
       ]
      },
      {
       "output_type": "stream",
       "stream": "stdout",
       "text": [
        "\n",
        "Epoch 7 Complete"
       ]
      },
      {
       "output_type": "stream",
       "stream": "stdout",
       "text": [
        "\n",
        "Epoch 8 Complete"
       ]
      },
      {
       "output_type": "stream",
       "stream": "stdout",
       "text": [
        "\n",
        "Epoch 9 Complete"
       ]
      },
      {
       "output_type": "stream",
       "stream": "stdout",
       "text": [
        "\n",
        "Epoch 10 Complete"
       ]
      },
      {
       "output_type": "stream",
       "stream": "stdout",
       "text": [
        "\n",
        "Epoch 11 Complete"
       ]
      },
      {
       "output_type": "stream",
       "stream": "stdout",
       "text": [
        "\n",
        "Epoch 12 Complete"
       ]
      },
      {
       "output_type": "stream",
       "stream": "stdout",
       "text": [
        "\n",
        "Epoch 13 Complete"
       ]
      },
      {
       "output_type": "stream",
       "stream": "stdout",
       "text": [
        "\n",
        "Epoch 14 Complete"
       ]
      },
      {
       "output_type": "stream",
       "stream": "stdout",
       "text": [
        "\n",
        "Epoch 15 Complete"
       ]
      },
      {
       "output_type": "stream",
       "stream": "stdout",
       "text": [
        "\n",
        "Epoch 16 Complete"
       ]
      },
      {
       "output_type": "stream",
       "stream": "stdout",
       "text": [
        "\n",
        "Epoch 17 Complete"
       ]
      },
      {
       "output_type": "stream",
       "stream": "stdout",
       "text": [
        "\n",
        "Epoch 18 Complete"
       ]
      },
      {
       "output_type": "stream",
       "stream": "stdout",
       "text": [
        "\n",
        "Epoch 19 Complete"
       ]
      },
      {
       "output_type": "stream",
       "stream": "stdout",
       "text": [
        "\n",
        "Epoch 20 Complete"
       ]
      },
      {
       "output_type": "stream",
       "stream": "stdout",
       "text": [
        "\n",
        "Epoch 21 Complete"
       ]
      },
      {
       "output_type": "stream",
       "stream": "stdout",
       "text": [
        "\n",
        "Epoch 22 Complete"
       ]
      },
      {
       "output_type": "stream",
       "stream": "stdout",
       "text": [
        "\n",
        "Epoch 23 Complete"
       ]
      },
      {
       "output_type": "stream",
       "stream": "stdout",
       "text": [
        "\n",
        "Epoch 24 Complete"
       ]
      },
      {
       "output_type": "stream",
       "stream": "stdout",
       "text": [
        "\n",
        "Epoch 25 Complete"
       ]
      },
      {
       "output_type": "stream",
       "stream": "stdout",
       "text": [
        "\n",
        "Epoch 26 Complete"
       ]
      },
      {
       "output_type": "stream",
       "stream": "stdout",
       "text": [
        "\n",
        "Epoch 27 Complete"
       ]
      },
      {
       "output_type": "stream",
       "stream": "stdout",
       "text": [
        "\n",
        "Epoch 28 Complete"
       ]
      },
      {
       "output_type": "stream",
       "stream": "stdout",
       "text": [
        "\n",
        "Epoch 29 Complete"
       ]
      },
      {
       "output_type": "stream",
       "stream": "stdout",
       "text": [
        "\n"
       ]
      }
     ],
     "prompt_number": 101
    },
    {
     "cell_type": "code",
     "collapsed": false,
     "input": [
      "test_labels=[np.argmax(net.feedforward(test_x)) for test_x in test_data]"
     ],
     "language": "python",
     "metadata": {},
     "outputs": [],
     "prompt_number": 110
    },
    {
     "cell_type": "code",
     "collapsed": false,
     "input": [
      "def write_output(filename, test_labels):\n",
      "    fp = open(filename, 'wb')\n",
      "    fp.write('ImageId,Label\\n')\n",
      "    imageId = 1\n",
      "    for label in test_labels:\n",
      "        fp.write('{0},{1}\\n'.format(imageId,label))\n",
      "        imageId += 1\n",
      "    fp.close()"
     ],
     "language": "python",
     "metadata": {},
     "outputs": [],
     "prompt_number": 4
    },
    {
     "cell_type": "code",
     "collapsed": false,
     "input": [
      "write_output('../data/output.csv', test_labels)"
     ],
     "language": "python",
     "metadata": {},
     "outputs": [],
     "prompt_number": 115
    },
    {
     "cell_type": "code",
     "collapsed": false,
     "input": [
      "import second_neural_net"
     ],
     "language": "python",
     "metadata": {},
     "outputs": []
    },
    {
     "cell_type": "code",
     "collapsed": false,
     "input": [
      "snet = second_neural_net.Network([784, 30, 10], cost = second_neural_net.CrossEntropyCost)"
     ],
     "language": "python",
     "metadata": {},
     "outputs": [],
     "prompt_number": 118
    },
    {
     "cell_type": "code",
     "collapsed": false,
     "input": [
      "epochs = 30\n",
      "mini_batch_size = 10\n",
      "eta = 0.1\n",
      "lmbda = 5.0"
     ],
     "language": "python",
     "metadata": {},
     "outputs": [],
     "prompt_number": 120
    },
    {
     "cell_type": "code",
     "collapsed": false,
     "input": [
      "snet.StochasticGradientDescent(training_data, epochs, mini_batch_size, eta,lmbda=lmbda)"
     ],
     "language": "python",
     "metadata": {},
     "outputs": [
      {
       "output_type": "stream",
       "stream": "stdout",
       "text": [
        "Epoch 0: training complete\n",
        "Epoch 10: training complete"
       ]
      },
      {
       "output_type": "stream",
       "stream": "stdout",
       "text": [
        "\n",
        "Epoch 20: training complete"
       ]
      },
      {
       "output_type": "stream",
       "stream": "stdout",
       "text": [
        "\n"
       ]
      },
      {
       "metadata": {},
       "output_type": "pyout",
       "prompt_number": 122,
       "text": [
        "([], [], [], [])"
       ]
      }
     ],
     "prompt_number": 122
    },
    {
     "cell_type": "code",
     "collapsed": false,
     "input": [
      "second_test_labels=[np.argmax(snet.feedforward(test_x)) for test_x in test_data]"
     ],
     "language": "python",
     "metadata": {},
     "outputs": [],
     "prompt_number": 126
    },
    {
     "cell_type": "code",
     "collapsed": false,
     "input": [
      "write_output('../data/output_2.csv', second_test_labels)"
     ],
     "language": "python",
     "metadata": {},
     "outputs": [],
     "prompt_number": 127
    },
    {
     "cell_type": "code",
     "collapsed": false,
     "input": [
      "import convolutional_neural_network as cnn\n",
      "import theano"
     ],
     "language": "python",
     "metadata": {},
     "outputs": [
      {
       "output_type": "stream",
       "stream": "stderr",
       "text": [
        "Using gpu device 0: Tesla K40c (CNMeM is enabled with initial size: 70.0% of memory, cuDNN 5005)\n",
        "/usr/local/lib/python2.7/dist-packages/theano/tensor/signal/downsample.py:6: UserWarning: downsample module has been moved to the theano.tensor.signal.pool module.\n",
        "  \"downsample module has been moved to the theano.tensor.signal.pool module.\")\n"
       ]
      },
      {
       "output_type": "stream",
       "stream": "stdout",
       "text": [
        "Trying to run under a GPU. If this is not required, Set GPU flag to False\n"
       ]
      }
     ],
     "prompt_number": 5
    },
    {
     "cell_type": "code",
     "collapsed": false,
     "input": [
      "cnn_training_data = cnn.shared(load_data(train_file))\n",
      "cnn_test_data =  cnn.shared(load_test_data(test_file))"
     ],
     "language": "python",
     "metadata": {},
     "outputs": [],
     "prompt_number": 6
    },
    {
     "cell_type": "code",
     "collapsed": false,
     "input": [
      "print 'Using RELU as activation function for Conv Layers with regularization'\n",
      "epochs = 60\n",
      "mini_batch_size = 10\n",
      "eta = 0.1\n",
      "lmda=0.1\n",
      "cnet = cnn.Network([cnn.ConvPoolLayer(image_shape=(mini_batch_size, 1 , 28, 28),\n",
      "                             filter_shape=(20, 1, 5, 5),\n",
      "                             poolsize=(2,2), activation_fn = cnn.ReLu),\n",
      "               cnn.FullyConnectedLayer(n_in=20*12*12, n_out=100),\n",
      "               cnn.SoftMaxLayer(n_in=100, n_out=10)], mini_batch_size)"
     ],
     "language": "python",
     "metadata": {},
     "outputs": [
      {
       "output_type": "stream",
       "stream": "stdout",
       "text": [
        "Using RELU as activation function for Conv Layers with regularization\n"
       ]
      }
     ],
     "prompt_number": 7
    },
    {
     "cell_type": "code",
     "collapsed": false,
     "input": [
      "bva = cnet.SGD(cnn_training_data, epochs, mini_batch_size, eta, \n",
      "            cnn_training_data, lmda=lmda)\n",
      "print 'Best Validation Accuracy with Conv Nets using ReLU :{0}'.format(bva)"
     ],
     "language": "python",
     "metadata": {},
     "outputs": [
      {
       "output_type": "stream",
       "stream": "stdout",
       "text": [
        "Finished Training Network\n",
        "Best Validation Accuracy of 100.00% acheived at iteration 0\n",
        "Best Validation Accuracy with Conv Nets using ReLU :0.999976190476\n"
       ]
      }
     ],
     "prompt_number": 8
    },
    {
     "cell_type": "code",
     "collapsed": false,
     "input": [
      "index = theano.tensor.lscalar() # mini-batch index\n",
      "test_x, test_y = cnn_test_data\n",
      "test_mb_predictions = theano.function(\n",
      "    [index], cnet.layers[-1].y_out,\n",
      "    givens={\n",
      "        cnet.x: test_x[index*mini_batch_size:(index+1)*mini_batch_size]})"
     ],
     "language": "python",
     "metadata": {},
     "outputs": [],
     "prompt_number": 16
    },
    {
     "cell_type": "code",
     "collapsed": false,
     "input": [
      "labels = []\n",
      "batches = cnn.size(cnn_test_data)/mini_batch_size\n",
      "for num in xrange(batches):\n",
      "    labels.extend(test_mb_predictions(num))"
     ],
     "language": "python",
     "metadata": {},
     "outputs": [],
     "prompt_number": 25
    },
    {
     "cell_type": "code",
     "collapsed": false,
     "input": [
      "write_output('../data/output_3.csv', labels)"
     ],
     "language": "python",
     "metadata": {},
     "outputs": [],
     "prompt_number": 27
    },
    {
     "cell_type": "code",
     "collapsed": false,
     "input": [
      "cnet = cnn.Network([cnn.ConvPoolLayer(image_shape=(mini_batch_size, 1 , 28, 28),\n",
      "                             filter_shape=(20, 1, 5, 5),\n",
      "                             poolsize=(2,2), activation_fn = cnn.ReLu),\n",
      "               cnn.ConvPoolLayer(image_shape=(mini_batch_size, 20 , 12, 12),\n",
      "                             filter_shape=(40, 20, 5, 5),\n",
      "                             poolsize=(2,2), activation_fn = cnn.ReLu),\n",
      "               cnn.FullyConnectedLayer(n_in=40*4*4, n_out=100),\n",
      "               cnn.SoftMaxLayer(n_in=100, n_out=10)], mini_batch_size)"
     ],
     "language": "python",
     "metadata": {},
     "outputs": [],
     "prompt_number": 28
    },
    {
     "cell_type": "code",
     "collapsed": false,
     "input": [
      "bva = cnet.SGD(cnn_training_data, epochs, mini_batch_size, eta, \n",
      "            cnn_training_data, lmda=lmda)\n",
      "print 'Best Validation Accuracy with Conv Nets using ReLU :{0}'.format(bva)"
     ],
     "language": "python",
     "metadata": {},
     "outputs": [
      {
       "output_type": "stream",
       "stream": "stdout",
       "text": [
        "Finished Training Network\n",
        "Best Validation Accuracy of 100.00% acheived at iteration 0\n",
        "Best Validation Accuracy with Conv Nets using ReLU :0.999976190476\n"
       ]
      }
     ],
     "prompt_number": 29
    },
    {
     "cell_type": "code",
     "collapsed": false,
     "input": [
      "labels = []\n",
      "batches = cnn.size(cnn_test_data)/mini_batch_size\n",
      "for num in xrange(batches):\n",
      "    labels.extend(test_mb_predictions(num))"
     ],
     "language": "python",
     "metadata": {},
     "outputs": [],
     "prompt_number": 30
    },
    {
     "cell_type": "code",
     "collapsed": false,
     "input": [
      "write_output('../data/output_4.csv', labels)"
     ],
     "language": "python",
     "metadata": {},
     "outputs": [],
     "prompt_number": 31
    },
    {
     "cell_type": "code",
     "collapsed": false,
     "input": [
      "len(labels)"
     ],
     "language": "python",
     "metadata": {},
     "outputs": [
      {
       "metadata": {},
       "output_type": "pyout",
       "prompt_number": 32,
       "text": [
        "28000"
       ]
      }
     ],
     "prompt_number": 32
    },
    {
     "cell_type": "code",
     "collapsed": false,
     "input": [
      "len(training_data[0][0])"
     ],
     "language": "python",
     "metadata": {},
     "outputs": [
      {
       "metadata": {},
       "output_type": "pyout",
       "prompt_number": 46,
       "text": [
        "784"
       ]
      }
     ],
     "prompt_number": 46
    },
    {
     "cell_type": "code",
     "collapsed": false,
     "input": [
      "cnn_test_data[0].shape[0]"
     ],
     "language": "python",
     "metadata": {},
     "outputs": [
      {
       "metadata": {},
       "output_type": "pyout",
       "prompt_number": 31,
       "text": [
        "Subtensor{int64}.0"
       ]
      }
     ],
     "prompt_number": 31
    },
    {
     "cell_type": "code",
     "collapsed": false,
     "input": [
      "cnn.size(cnn_test_data)"
     ],
     "language": "python",
     "metadata": {},
     "outputs": [
      {
       "metadata": {},
       "output_type": "pyout",
       "prompt_number": 47,
       "text": [
        "28000"
       ]
      }
     ],
     "prompt_number": 47
    },
    {
     "cell_type": "code",
     "collapsed": false,
     "input": [],
     "language": "python",
     "metadata": {},
     "outputs": []
    }
   ],
   "metadata": {}
  }
 ]
}