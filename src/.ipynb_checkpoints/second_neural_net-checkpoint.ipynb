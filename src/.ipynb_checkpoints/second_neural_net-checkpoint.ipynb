{
 "metadata": {
  "name": "",
  "signature": "sha256:0d7f6f81553bb3b82d499afb0b9ec808427607bf602984925a4011ef29f02025"
 },
 "nbformat": 3,
 "nbformat_minor": 0,
 "worksheets": [
  {
   "cells": [
    {
     "cell_type": "code",
     "collapsed": false,
     "input": [
      "# Numpy - A Linear Algebra library in python\n",
      "import numpy as np\n",
      "# Matplotlib - A Library for plots\n",
      "import matplotlib.pyplot as plt"
     ],
     "language": "python",
     "metadata": {},
     "outputs": [],
     "prompt_number": 18
    },
    {
     "cell_type": "code",
     "collapsed": false,
     "input": [
      "# Import system libraries\n",
      "import json\n",
      "import sys\n",
      "import random"
     ],
     "language": "python",
     "metadata": {},
     "outputs": [],
     "prompt_number": 19
    },
    {
     "cell_type": "code",
     "collapsed": false,
     "input": [
      "# Qudratic Cost function\n",
      "class QuadtricCost(object):\n",
      "    \n",
      "    @staticmethod\n",
      "    def fn(a, y):\n",
      "        ''' Returns the cost associated with predicted output 'a' \n",
      "            and desired output 'y'\n",
      "        '''\n",
      "        return 0.5*np.linalg.norm(a-y)**2\n",
      "    \n",
      "    @staticmethod\n",
      "    def delta(z, a, y):\n",
      "        ''' Returns the error delta from the output layer\n",
      "        '''\n",
      "        return (a-y)*sigmoid_prime(z)    "
     ],
     "language": "python",
     "metadata": {},
     "outputs": [],
     "prompt_number": 20
    },
    {
     "cell_type": "code",
     "collapsed": false,
     "input": [
      "# Cross Entropy Cost function\n",
      "class CrossEntropyCost(object):\n",
      "    \n",
      "    @staticmethod\n",
      "    def fn(a, y):\n",
      "        ''' Returns the cost associated with predicted output 'a' \n",
      "            and desired output 'y'\n",
      "            If a=1.0 and y=1.0 then (1-y)np.log(1-a) returns nan\n",
      "            np.nan_to_num ensures that the output is 0.0\n",
      "        '''\n",
      "        return np.sum(np.nan_to_num(-y*np.log(a) - (1-y)*np.log(1-a)))\n",
      "    \n",
      "    @staticmethod\n",
      "    def delta(z, a, y):\n",
      "        ''' Returns the error delta from the output layer\n",
      "            Here we do not use value z. \n",
      "            Rather it is kept for the consistency of the interface\n",
      "        '''\n",
      "        return (a-y)"
     ],
     "language": "python",
     "metadata": {},
     "outputs": [],
     "prompt_number": 21
    },
    {
     "cell_type": "code",
     "collapsed": false,
     "input": [
      "# Neural Network\n",
      "class Network(object):\n",
      "    def __init__(self, sizes, cost=CrossEntropyCost):\n",
      "        ''' List sizes contains the number of neurons in their respective layers\n",
      "             The biases and weights are initialzed using default weight intializer\n",
      "        '''\n",
      "        self.num_layers = len(sizes)\n",
      "        self.sizes = sizes\n",
      "        self.default_weight_intializer()\n",
      "        self.cost = cost\n",
      "        \n",
      "    def default_weight_intializer(self):\n",
      "        ''' Standard Initilzation for weights.\n",
      "             Weights are intialized using a Gaussian Distribution of mean 0 and variance 1\n",
      "             Biases are intialized using a Gaussian Distribution of mean 0 and variance 1\n",
      "        '''\n",
      "        # np.radnom.rand is a gaussian with mean 0, variance 1\n",
      "        self.biases = [np.random.randn(y,1) for y in self.sizes[1:]]\n",
      "        self.weights = [np.random.randn(y, x)/ np.sqrt(x)\n",
      "                        for x,y in zip(self.sizes[:-1], self.sizes[1:])]\n",
      "        \n",
      "    def large_weigts_initializer(self):\n",
      "        ''' Standard Initilzation for weights.\n",
      "             Weights are intialized using a Gaussian Distribution of mean 0 and variance 1\n",
      "             over the square root of weights connecting to the same neuron\n",
      "             Biases are intialized using a Gaussian Distribution of mean 0 and variance 1\n",
      "        '''\n",
      "        # np.radnom.rand is a gaussian with mean 0, variance 1\n",
      "        self.biases = [np.random.randn(y,1) for y in self.sizes[1:]]\n",
      "        self.weights = [np.random.randn(y, x)\n",
      "                        for x,y in zip(self.sizes[:-1], self.sizes[1:])]\n",
      "\n",
      "    def my_weights_intializer(self):\n",
      "        ''' My Initilzation for weights.\n",
      "             Weights are intialized using a Gaussian Distribution of mean 0 and variance 1\n",
      "             over the log of weights connecting to the same neuron\n",
      "             Biases are intialized using a Gaussian Distribution of mean 0 and variance 1\n",
      "        '''\n",
      "        # np.radnom.rand is a gaussian with mean 0, variance 1\n",
      "        self.biases = [np.random.randn(y,1) for y in self.sizes[1:]]\n",
      "        self.weights = [np.random.randn(y, x)/ np.log(x)\n",
      "                        for x,y in zip(self.sizes[:-1], self.sizes[1:])]\n",
      "        \n",
      "    # This is the feed forward operation of the net\n",
      "    def feedforward(self, a):\n",
      "        ''' Returns the output of the network. If 'a' is the input '''\n",
      "        for b,w in zip(self.biases, self.weights):\n",
      "            ''' a' = sigmoid(w.a + b) '''\n",
      "            a = sigmoid(np.dot(w, a) + b)\n",
      "        return a\n",
      "    # Let us define the Stochastic Gradient Descent method.\n",
      "    # The net uses SGD to learn the weights and biases\n",
      "    def StochasticGradientDescent(self, training_data, epochs, mini_batch_size, eta, lmbda=0.0, \n",
      "                                  evaluation_data=None, monitor_evaluation_cost=False,\n",
      "                                  monitor_evaluation_accuracy=False, monitor_training_cost=False,\n",
      "                                  monitor_training_accuracy=False):\n",
      "        ''' \n",
      "            Trains the neural network using mini-batch stochastic gradient descent.\n",
      "            The training data is list a tuples (x,y) representing the training input and desired outputs\n",
      "            If evaluation data is provided the network will be evaluated against after each epoch,\n",
      "            It also monitors the cost and accuracy for training and evaluation using appropriate flags,\n",
      "            evaluated/calculated per epoch. The method would finally returns these four lists.\n",
      "            Remember the lists would be empty if the flags are not set.\n",
      "        '''\n",
      "        if evaluation_data:\n",
      "            n_eval = len(evaluation_data)\n",
      "        n_train = len(training_data)\n",
      "        evaluation_cost, evaluation_accuracy = [], []\n",
      "        training_cost, training_accuracy = [], []\n",
      "        for epoch in xrange(epochs):\n",
      "            random.shuffle(training_data)\n",
      "            ''' Get the list of examples to train '''\n",
      "            mini_batches = [ training_data[it: it+mini_batch_size] \n",
      "                            for it in xrange(0, n_train, mini_batch_size)]\n",
      "            ''' Train each mini batch '''\n",
      "            for mini_batch in mini_batches:\n",
      "                self.update_mini_batch(mini_batch, eta, lmbda, n_train)\n",
      "            if epoch %10==0:\n",
      "                print 'Epoch {0}: training complete'.format(epoch)\n",
      "            if monitor_training_cost:\n",
      "                cost = self.total_cost(training_data, lmbda)\n",
      "                training_cost.append(cost)\n",
      "                if epoch%10==0:\n",
      "                    print 'Training cost is:',cost\n",
      "            if monitor_training_accuracy:\n",
      "                accuracy = round(( 1.0 * self.accuracy(training_data, convert=True)/n_train), 3)\n",
      "                training_accuracy.append(accuracy)\n",
      "                if epoch%10==0:\n",
      "                    print 'Training Accuracy is:',accuracy\n",
      "            if evaluation_data and monitor_evaluation_cost:\n",
      "                cost = self.total_cost(evaluation_data, lmbda, convert=True)\n",
      "                evaluation_cost.append(cost)\n",
      "                if epoch %10==0:\n",
      "                    print 'Evaluation cost is:',cost\n",
      "            if evaluation_data and monitor_evaluation_accuracy:\n",
      "                accuracy = round((1.0 * self.accuracy(evaluation_data)/n_eval), 3)\n",
      "                evaluation_accuracy.append(accuracy)\n",
      "                if epoch %10==0:\n",
      "                    print 'Evaluation Accuracy is:',accuracy\n",
      "        return evaluation_cost, evaluation_accuracy, training_cost, training_accuracy\n",
      "                \n",
      "    # We have to tell the network, how to update the weights\n",
      "    def update_mini_batch(self, mini_batch, eta, lmbda, n):\n",
      "        ''' \n",
      "            The mini batch is a list of (x,y) tuples. eta is the learning rate\n",
      "            For each tuple update the biases and weights using backpropagation\n",
      "        '''\n",
      "        \n",
      "        # Initialize the partial derivates to zero\n",
      "        Del_b = [np.zeros(b.shape) for b in self.biases]  # nala_b (partial derivates of b)\n",
      "        Del_w = [np.zeros(w.shape) for w in self.weights] # nala_w (partial derivates of w)\n",
      "        \n",
      "        # For input pair calculate the derivates using back propagation\n",
      "        for x, y in mini_batch:\n",
      "            delta_Del_b, delta_Del_w = self.backprop(x, y)\n",
      "            Del_b = [ nb + dnb for nb, dnb in zip(Del_b, delta_Del_b)]\n",
      "            Del_w = [ nw + dnw for nw, dnw in zip(Del_w, delta_Del_w)]\n",
      "        # Update final biases and weights\n",
      "        # w_new = ( 1 - eta*lambda/n)*w - eta/len(mini_batch)*nw\n",
      "        self.weights = [(1 - eta*(lmbda/n))*w - (eta/len(mini_batch))*nw \n",
      "                        for w, nw in zip(self.weights, Del_w) ]\n",
      "        self.biases = [b - (eta/len(mini_batch))*nb \n",
      "                       for b, nb in zip(self.biases, Del_b) ]\n",
      "    \n",
      "    # Back Propagation Algorithm\n",
      "    # Takes as an input (x,y) tuple and outputs a tuple(nabla_b, nabla_w) of np arrays\n",
      "    # nabla_b - the derivates of the cost function w.r.t the biases\n",
      "    # nabla_w - the derivates of the cost function w.r.t the weights\n",
      "    def backprop(self, x, y):\n",
      "        nabla_b = [np.zeros(b.shape) for b in self.biases]\n",
      "        nabla_w = [np.zeros(w.shape) for w in self.weights]\n",
      "        \n",
      "        # Feedforward\n",
      "        activation = x    # Activation of the input layer\n",
      "        activations = [x] # Store the list of activations layer by layer\n",
      "        latents = []      # store the list of latent variables z\n",
      "        for b, w in zip(self.biases, self.weights):\n",
      "            z = np.dot(w, activation) + b\n",
      "            latents.append(z)\n",
      "            activation = sigmoid(z)        \n",
      "            activations.append(activation)\n",
      "        \n",
      "        # Backward pass\n",
      "        delta = (self.cost).delta(latents[-1], activations[-1], y)\n",
      "        nabla_b[-1] = delta\n",
      "        nabla_w[-1] = np.dot(delta, activations[-2].transpose())\n",
      "        \n",
      "        # Now back propagate the error through all the layers\n",
      "        # Note that for the last layer, l = self.num_layers - 1, \n",
      "        # so we start from self.num_layers - 2 till layer 1 (i.e the second layer)\n",
      "        for l in xrange(2, self.num_layers):\n",
      "            z = latents[-l]\n",
      "            sp = sigmoid_prime(z)\n",
      "            delta = np.dot(self.weights[-l+1].transpose(), delta) * sp\n",
      "            nabla_b[-l] = delta\n",
      "            nabla_w[-l] = np.dot(delta, activations[-l-1].transpose())\n",
      "        return (nabla_b, nabla_w)\n",
      "    \n",
      "    \n",
      "    def total_cost(self, data, lmbda, convert=False):\n",
      "        '''\n",
      "        Returns the total cost with Cross Entropy Cost and L2 Regularization.\n",
      "        Covert should be set to 'False' for training data and 'True' for evaluation data\n",
      "        Since we have not converted data to vectors in MNIST Data\n",
      "        '''\n",
      "        cost = 0.0\n",
      "        for x,y in data:\n",
      "            a = self.feedforward(x)\n",
      "            if convert:\n",
      "                y = vectorized_result(y)\n",
      "            cost += self.cost.fn(a,y)/len(data)\n",
      "        cost += 0.5*(lmbda/len(data))*sum(np.linalg.norm(w)**2 for w in self.weights)\n",
      "        return cost\n",
      "    \n",
      "    def total_cost_l1_regularization(self, data, lmbda, convert=False):\n",
      "        '''\n",
      "        Returns the total cost with Cross Entropy Cost and L1 Regularization.\n",
      "        Covert should be set to 'False' for training data and 'True' for evaluation data\n",
      "        Since we have not converted data to vectors in MNIST Data\n",
      "        '''\n",
      "        cost = 0.0\n",
      "        for x,y in data:\n",
      "            a = self.feedforward(x)\n",
      "            if convert:\n",
      "                y = vectorized_result(y)\n",
      "            cost += self.cost.fn(a,y)/len(data)\n",
      "        cost += 0.5*lamda/len(data) *sum(np.abs(w) for w in self.weights)\n",
      "        return cost\n",
      "    \n",
      "    def accuracy(self, data, convert=False):\n",
      "        '''\n",
      "        Returns the accuracy of the model. ie the number of inputs for which the \n",
      "        expected output is same as the actual output.\n",
      "        'Convert' should be set to 'False' for evaluation data and \n",
      "        'True' for training data.\n",
      "        '''\n",
      "        if convert:\n",
      "            results = [(np.argmax(self.feedforward(x)), np.argmax(y)) for x,y in data]\n",
      "        else:\n",
      "            results = [(np.argmax(self.feedforward(x)), y) for x,y in data]\n",
      "        return sum(int(x==y) for x,y in results)\n",
      "    \n",
      "    # Saving a network to file\n",
      "    def save(self, filename):\n",
      "        '''\n",
      "        Saves an instance of network into the file using the filename\n",
      "        '''\n",
      "        data = {\"sizes\": self.sizes,  \"weights\": [w.tolist() for w in self.weights],\n",
      "                \"biases\": [b.tolist() for b in self.biases], \"cost\":str(self.cost.__name__)}\n",
      "        fp = open(filename, \"w\")\n",
      "        json.dump(data, fp)\n",
      "        fp.close()"
     ],
     "language": "python",
     "metadata": {},
     "outputs": [],
     "prompt_number": 46
    },
    {
     "cell_type": "code",
     "collapsed": false,
     "input": [
      "# Miscellaneous Functions #\n",
      "def sigmoid(z):\n",
      "    return 1.0/(1.0 + np.exp(-z))\n",
      "\n",
      "# Derivative of the logistic function\n",
      "def sigmoid_prime(z):\n",
      "    return sigmoid(z)*(1 - sigmoid(z))\n",
      "\n",
      "def vectorized_result(d):\n",
      "    ''' Returns a 10 dimensional vector with dth dimnesion set to 1.0 and rest are zero\n",
      "    '''\n",
      "    vec = np.zeros((10, 1))\n",
      "    vec[d] = 1.0\n",
      "    return vec"
     ],
     "language": "python",
     "metadata": {},
     "outputs": [],
     "prompt_number": 47
    },
    {
     "cell_type": "code",
     "collapsed": false,
     "input": [
      "# Loading a Network\n",
      "def load(filename):\n",
      "    '''\n",
      "    Load a neural network from the file using the filename.\n",
      "    Returns an instance of the network\n",
      "    '''\n",
      "    fp = open(filename, 'r')\n",
      "    data = json.load(fp)\n",
      "    fp.close()\n",
      "    cost = getattr(sys.modules[__name__], data[\"cost\"])\n",
      "    net = Network(data[\"sizes\"], cost=cost)\n",
      "    net.weights = [np.array(w) for w in data[\"weights\"]]\n",
      "    net.biases = [np.array(b) for b in data[\"biases\"]]\n",
      "    return net"
     ],
     "language": "python",
     "metadata": {},
     "outputs": [],
     "prompt_number": 48
    },
    {
     "cell_type": "code",
     "collapsed": false,
     "input": [
      "import mnist_loader\n",
      "training_data, validation_data, test_data = mnist_loader.load_data_wrapper()"
     ],
     "language": "python",
     "metadata": {},
     "outputs": [],
     "prompt_number": 49
    },
    {
     "cell_type": "code",
     "collapsed": false,
     "input": [
      "def plot_training_cost(training_cost, num_epochs, training_cost_xmin):\n",
      "    fig = plt.figure()\n",
      "    ax = fig.add_subplot(111)\n",
      "    ax.plot(np.arange(training_cost_xmin, num_epochs),\n",
      "            training_cost[training_cost_xmin:num_epochs],\n",
      "            color = '#2A6EA6')\n",
      "    ax.set_xlim([training_cost_xmin, num_epochs])\n",
      "    ax.grid(True)\n",
      "    ax.set_xlabel('Epoch')\n",
      "    ax.set_title('Cost on Training Data')\n",
      "    plt.show()"
     ],
     "language": "python",
     "metadata": {},
     "outputs": [],
     "prompt_number": 50
    },
    {
     "cell_type": "code",
     "collapsed": false,
     "input": [
      "def plot_test_cost(test_cost, num_epochs, test_cost_xmin):\n",
      "    fig = plt.figure()\n",
      "    ax = fig.add_subplot(111)\n",
      "    ax.plot(np.arange(test_cost_xmin, num_epochs),\n",
      "            test_cost[test_cost_xmin:num_epochs],\n",
      "            color = '#2A6EA6')\n",
      "    ax.set_xlim([test_cost_xmin, num_epochs])\n",
      "    ax.grid(True)\n",
      "    ax.set_xlabel('Epoch')\n",
      "    ax.set_title('Cost on Test Data')\n",
      "    plt.show()"
     ],
     "language": "python",
     "metadata": {},
     "outputs": [],
     "prompt_number": 51
    },
    {
     "cell_type": "code",
     "collapsed": false,
     "input": [
      "def plot_test_accuracy(test_accuracy, num_epochs, test_accuracy_xmin):\n",
      "    fig = plt.figure()\n",
      "    ax = fig.add_subplot(111)\n",
      "    ax.plot(np.arange(test_accuracy_xmin, num_epochs),\n",
      "            [accuracy for accuracy in test_accuracy[test_accuracy_xmin:num_epochs]],\n",
      "            color = '#2A6EA6')\n",
      "    ax.set_xlim([test_accuracy_xmin, num_epochs])\n",
      "    ax.grid(True)\n",
      "    ax.set_xlabel('Epoch')\n",
      "    ax.set_title('Accuracy(%) on Test Data')\n",
      "    plt.show()"
     ],
     "language": "python",
     "metadata": {},
     "outputs": [],
     "prompt_number": 70
    },
    {
     "cell_type": "code",
     "collapsed": false,
     "input": [
      "def plot_train_accuracy(train_accuracy, num_epochs, train_accuracy_xmin):\n",
      "    fig = plt.figure()\n",
      "    ax = fig.add_subplot(111)\n",
      "    ax.plot(np.arange(train_accuracy_xmin, num_epochs),\n",
      "            [accuracy for accuracy in train_accuracy[train_accuracy_xmin:num_epochs]],\n",
      "            color = '#2A6EA6')\n",
      "    ax.set_xlim([train_accuracy_xmin, num_epochs])\n",
      "    ax.grid(True)\n",
      "    ax.set_xlabel('Epoch')\n",
      "    ax.set_title('Accuracy(%) on Training Data')\n",
      "    plt.show()"
     ],
     "language": "python",
     "metadata": {},
     "outputs": [],
     "prompt_number": 66
    },
    {
     "cell_type": "code",
     "collapsed": false,
     "input": [
      "epochs = 30\n",
      "mini_batch_size = 10\n",
      "eta = 0.1\n",
      "net = Network([784, 30, 10])\n",
      "lmbda = 5.0"
     ],
     "language": "python",
     "metadata": {},
     "outputs": [],
     "prompt_number": 54
    },
    {
     "cell_type": "code",
     "collapsed": false,
     "input": [
      "net = Network([784, 30, 10], cost = CrossEntropyCost)"
     ],
     "language": "python",
     "metadata": {},
     "outputs": [],
     "prompt_number": 55
    },
    {
     "cell_type": "code",
     "collapsed": false,
     "input": [
      "_, ea, _, ta = net.StochasticGradientDescent(training_data, epochs, mini_batch_size, eta,\n",
      "                                            lmbda=lmbda, evaluation_data=validation_data,\n",
      "                                            monitor_evaluation_accuracy=True,\n",
      "                                            monitor_training_accuracy=True)\n",
      "evaluation_accuracy = ea\n",
      "training_accuracy = ta"
     ],
     "language": "python",
     "metadata": {},
     "outputs": [
      {
       "output_type": "stream",
       "stream": "stdout",
       "text": [
        "Epoch 0: training complete\n",
        "Training Accuracy is:"
       ]
      },
      {
       "output_type": "stream",
       "stream": "stdout",
       "text": [
        " 0.982\n",
        "Evaluation Accuracy is:"
       ]
      },
      {
       "output_type": "stream",
       "stream": "stdout",
       "text": [
        " 0.969\n",
        "Epoch 10: training complete"
       ]
      },
      {
       "output_type": "stream",
       "stream": "stdout",
       "text": [
        "\n",
        "Training Accuracy is:"
       ]
      },
      {
       "output_type": "stream",
       "stream": "stdout",
       "text": [
        " 0.982\n",
        "Evaluation Accuracy is:"
       ]
      },
      {
       "output_type": "stream",
       "stream": "stdout",
       "text": [
        " 0.97\n",
        "Epoch 20: training complete"
       ]
      },
      {
       "output_type": "stream",
       "stream": "stdout",
       "text": [
        "\n",
        "Training Accuracy is:"
       ]
      },
      {
       "output_type": "stream",
       "stream": "stdout",
       "text": [
        " 0.981\n",
        "Evaluation Accuracy is:"
       ]
      },
      {
       "output_type": "stream",
       "stream": "stdout",
       "text": [
        " 0.968\n"
       ]
      }
     ],
     "prompt_number": 63
    },
    {
     "cell_type": "code",
     "collapsed": false,
     "input": [
      "ec, _, tc, _ = net.StochasticGradientDescent(training_data, epochs, mini_batch_size, eta,\n",
      "                                             lmbda=lmbda,evaluation_data=validation_data,\n",
      "                                             monitor_evaluation_cost=True, \n",
      "                                             monitor_training_cost=True)\n",
      "evaluation_cost = ec\n",
      "training_cost = tc"
     ],
     "language": "python",
     "metadata": {},
     "outputs": [
      {
       "output_type": "stream",
       "stream": "stdout",
       "text": [
        "Epoch 0: training complete\n",
        "Training cost is:"
       ]
      },
      {
       "output_type": "stream",
       "stream": "stdout",
       "text": [
        " 0.309993339664\n",
        "Evaluation cost is:"
       ]
      },
      {
       "output_type": "stream",
       "stream": "stdout",
       "text": [
        " 0.832043766879\n",
        "Epoch 10: training complete"
       ]
      },
      {
       "output_type": "stream",
       "stream": "stdout",
       "text": [
        "\n",
        "Training cost is:"
       ]
      },
      {
       "output_type": "stream",
       "stream": "stdout",
       "text": [
        " 0.292968266958\n",
        "Evaluation cost is:"
       ]
      },
      {
       "output_type": "stream",
       "stream": "stdout",
       "text": [
        " 0.820750391851\n",
        "Epoch 20: training complete"
       ]
      },
      {
       "output_type": "stream",
       "stream": "stdout",
       "text": [
        "\n",
        "Training cost is:"
       ]
      },
      {
       "output_type": "stream",
       "stream": "stdout",
       "text": [
        " 0.291575770945\n",
        "Evaluation cost is:"
       ]
      },
      {
       "output_type": "stream",
       "stream": "stdout",
       "text": [
        " 0.820269820303\n"
       ]
      }
     ],
     "prompt_number": 59
    },
    {
     "cell_type": "code",
     "collapsed": false,
     "input": [
      "# Plotting training accuracy\n",
      "plot_train_accuracy(training_accuracy, epochs, 0)\n",
      "\n",
      "# Plotting evaluation accuracy\n",
      "plot_test_accuracy(evaluation_accuracy, epochs, 0)\n",
      "\n",
      "# plotting training cost\n",
      "plot_training_cost(training_cost, epochs, 0)\n",
      "\n",
      "# plotting training cost\n",
      "plot_test_cost(evaluation_cost, epochs, 0)"
     ],
     "language": "python",
     "metadata": {},
     "outputs": [],
     "prompt_number": 71
    },
    {
     "cell_type": "code",
     "collapsed": false,
     "input": [
      "def plot_overlay(test_accuracy, train_accuracy, num_epochs, xmin):\n",
      "    fig = plt.figure()\n",
      "    ax = fig.add_subplot(111)\n",
      "    ax.plot(np.arange(xmin, num_epochs),\n",
      "            [accuracy for accuracy in train_accuracy[xmin:num_epochs]],\n",
      "            color = '#2A6EA6', label=\"Accuracy on Training Data\")\n",
      "    ax.plot(np.arange(xmin, num_epochs),\n",
      "            [accuracy for accuracy in test_accuracy[xmin:num_epochs]],\n",
      "            color='#FFA933', label=\"Accuracy on Test Data\")\n",
      "    ax.set_xlim([xmin, num_epochs])\n",
      "    ax.grid(True)\n",
      "    ax.set_xlabel('Epoch')\n",
      "    ax.set_title('Accuracy(%) on Training Data')\n",
      "    ax.set_ylim([0.90, 1.00])\n",
      "    plt.legend(loc='lower right')\n",
      "    plt.show()"
     ],
     "language": "python",
     "metadata": {},
     "outputs": [],
     "prompt_number": 72
    },
    {
     "cell_type": "code",
     "collapsed": false,
     "input": [
      "# Plotting over lay of training and test accuracies\n",
      "plot_overlay(evaluation_accuracy, training_accuracy, epochs , 0)"
     ],
     "language": "python",
     "metadata": {},
     "outputs": [],
     "prompt_number": 73
    },
    {
     "cell_type": "code",
     "collapsed": false,
     "input": [
      "# Plotting overlay accuracy values with varying factors\n",
      "def plot_overlay_accuracy_values(accuracy_values, varying_factors, varying_factor_name, \n",
      "                                 title, num_epochs, xmin, ymin):\n",
      "    fig = plt.figure()\n",
      "    ax = fig.add_subplot(111)\n",
      "    for index in xrange(len(accuracy_values)):\n",
      "        ax.plot(np.arange(xmin, num_epochs),\n",
      "                [accuracy_value for accuracy_value in accuracy_values[index][xmin:num_epochs]],\n",
      "                label=varying_factor_name+\":\"+str(varying_factors[index]))\n",
      "    ax.set_xlim([xmin, num_epochs])\n",
      "    ax.grid(True)\n",
      "    ax.set_xlabel('Epoch')\n",
      "    ax.set_title(title)\n",
      "    ax.set_ylim([ymin, 1.00])\n",
      "    plt.legend(loc='lower right')\n",
      "    plt.show()\n",
      "    \n",
      "# Plotting overlay accuracy values with varying factors\n",
      "def plot_overlay_cost_values(cost_values, varying_factors, varying_factor_name, \n",
      "                                 title, num_epochs, xmin, ymin, ymax):\n",
      "    fig = plt.figure()\n",
      "    ax = fig.add_subplot(111)\n",
      "    for index in xrange(len(cost_values)):\n",
      "        ax.plot(np.arange(xmin, num_epochs),\n",
      "                [cost_value for cost_value in cost_values[index][xmin:num_epochs]],\n",
      "                label=varying_factor_name+\":\"+str(varying_factors[index]))\n",
      "    ax.set_xlim([xmin, num_epochs])\n",
      "    ax.grid(True)\n",
      "    ax.set_xlabel('Epoch')\n",
      "    ax.set_title(title)\n",
      "    ax.set_ylim([ymin, ymax])\n",
      "    plt.legend(loc='best')\n",
      "    plt.show()"
     ],
     "language": "python",
     "metadata": {},
     "outputs": [],
     "prompt_number": 90
    },
    {
     "cell_type": "code",
     "collapsed": false,
     "input": [
      "''' Chaning lambdas, keeping all others constant '''\n",
      "# Checking Evaluation Accuracies and training accuracies\n",
      "epochs = 30\n",
      "mini_batch_size = 10\n",
      "eta = 0.1\n",
      "net = Network([784, 30, 10])\n",
      "lmbdas = [0.3, 1.0, 3.0, 5.0, 10.0, 30.0, 100.0, 1000.0]\n",
      "evaluation_accuracies = []\n",
      "training_accuracies = []\n",
      "for lmbda in lmbdas:\n",
      "    print 'SGD for Lambda:',lmbda\n",
      "    _, ea, _, ta = net.StochasticGradientDescent(training_data, epochs, mini_batch_size, \n",
      "                                                 eta, lmbda=lmbda, \n",
      "                                                 evaluation_data=validation_data,\n",
      "                                                 monitor_evaluation_accuracy=True, \n",
      "                                                 monitor_training_accuracy=True)\n",
      "    evaluation_accuracies.append(ea)\n",
      "    training_accuracies.append(ta)"
     ],
     "language": "python",
     "metadata": {},
     "outputs": [
      {
       "output_type": "stream",
       "stream": "stdout",
       "text": [
        "Epoch 0: training complete\n",
        "Training Accuracy is:"
       ]
      },
      {
       "output_type": "stream",
       "stream": "stdout",
       "text": [
        " 0.927\n",
        "Evaluation Accuracy is:"
       ]
      },
      {
       "output_type": "stream",
       "stream": "stdout",
       "text": [
        " 0.933\n",
        "Epoch 10: training complete"
       ]
      },
      {
       "output_type": "stream",
       "stream": "stdout",
       "text": [
        "\n",
        "Training Accuracy is:"
       ]
      },
      {
       "output_type": "stream",
       "stream": "stdout",
       "text": [
        " 0.969\n",
        "Evaluation Accuracy is:"
       ]
      },
      {
       "output_type": "stream",
       "stream": "stdout",
       "text": [
        " 0.958\n",
        "Epoch 20: training complete"
       ]
      },
      {
       "output_type": "stream",
       "stream": "stdout",
       "text": [
        "\n",
        "Training Accuracy is:"
       ]
      },
      {
       "output_type": "stream",
       "stream": "stdout",
       "text": [
        " 0.978\n",
        "Evaluation Accuracy is:"
       ]
      },
      {
       "output_type": "stream",
       "stream": "stdout",
       "text": [
        " 0.961\n",
        "Epoch 0: training complete"
       ]
      },
      {
       "output_type": "stream",
       "stream": "stdout",
       "text": [
        "\n",
        "Training Accuracy is:"
       ]
      },
      {
       "output_type": "stream",
       "stream": "stdout",
       "text": [
        " 0.982\n",
        "Evaluation Accuracy is:"
       ]
      },
      {
       "output_type": "stream",
       "stream": "stdout",
       "text": [
        " 0.962\n",
        "Epoch 10: training complete"
       ]
      },
      {
       "output_type": "stream",
       "stream": "stdout",
       "text": [
        "\n",
        "Training Accuracy is:"
       ]
      },
      {
       "output_type": "stream",
       "stream": "stdout",
       "text": [
        " 0.985\n",
        "Evaluation Accuracy is:"
       ]
      },
      {
       "output_type": "stream",
       "stream": "stdout",
       "text": [
        " 0.963\n",
        "Epoch 20: training complete"
       ]
      },
      {
       "output_type": "stream",
       "stream": "stdout",
       "text": [
        "\n",
        "Training Accuracy is:"
       ]
      },
      {
       "output_type": "stream",
       "stream": "stdout",
       "text": [
        " 0.985\n",
        "Evaluation Accuracy is:"
       ]
      },
      {
       "output_type": "stream",
       "stream": "stdout",
       "text": [
        " 0.961\n",
        "Epoch 0: training complete"
       ]
      },
      {
       "output_type": "stream",
       "stream": "stdout",
       "text": [
        "\n",
        "Training Accuracy is:"
       ]
      },
      {
       "output_type": "stream",
       "stream": "stdout",
       "text": [
        " 0.988\n",
        "Evaluation Accuracy is:"
       ]
      },
      {
       "output_type": "stream",
       "stream": "stdout",
       "text": [
        " 0.963\n",
        "Epoch 10: training complete"
       ]
      },
      {
       "output_type": "stream",
       "stream": "stdout",
       "text": [
        "\n",
        "Training Accuracy is:"
       ]
      },
      {
       "output_type": "stream",
       "stream": "stdout",
       "text": [
        " 0.986\n",
        "Evaluation Accuracy is:"
       ]
      },
      {
       "output_type": "stream",
       "stream": "stdout",
       "text": [
        " 0.965\n",
        "Epoch 20: training complete"
       ]
      },
      {
       "output_type": "stream",
       "stream": "stdout",
       "text": [
        "\n",
        "Training Accuracy is:"
       ]
      },
      {
       "output_type": "stream",
       "stream": "stdout",
       "text": [
        " 0.984\n",
        "Evaluation Accuracy is:"
       ]
      },
      {
       "output_type": "stream",
       "stream": "stdout",
       "text": [
        " 0.964\n",
        "Epoch 0: training complete"
       ]
      },
      {
       "output_type": "stream",
       "stream": "stdout",
       "text": [
        "\n",
        "Training Accuracy is:"
       ]
      },
      {
       "output_type": "stream",
       "stream": "stdout",
       "text": [
        " 0.985\n",
        "Evaluation Accuracy is:"
       ]
      },
      {
       "output_type": "stream",
       "stream": "stdout",
       "text": [
        " 0.966\n",
        "Epoch 10: training complete"
       ]
      },
      {
       "output_type": "stream",
       "stream": "stdout",
       "text": [
        "\n",
        "Training Accuracy is:"
       ]
      },
      {
       "output_type": "stream",
       "stream": "stdout",
       "text": [
        " 0.981\n",
        "Evaluation Accuracy is:"
       ]
      },
      {
       "output_type": "stream",
       "stream": "stdout",
       "text": [
        " 0.966\n",
        "Epoch 20: training complete"
       ]
      },
      {
       "output_type": "stream",
       "stream": "stdout",
       "text": [
        "\n",
        "Training Accuracy is:"
       ]
      },
      {
       "output_type": "stream",
       "stream": "stdout",
       "text": [
        " 0.981\n",
        "Evaluation Accuracy is:"
       ]
      },
      {
       "output_type": "stream",
       "stream": "stdout",
       "text": [
        " 0.968\n",
        "Epoch 0: training complete"
       ]
      },
      {
       "output_type": "stream",
       "stream": "stdout",
       "text": [
        "\n",
        "Training Accuracy is:"
       ]
      },
      {
       "output_type": "stream",
       "stream": "stdout",
       "text": [
        " 0.98\n",
        "Evaluation Accuracy is:"
       ]
      },
      {
       "output_type": "stream",
       "stream": "stdout",
       "text": [
        " 0.968\n",
        "Epoch 10: training complete"
       ]
      },
      {
       "output_type": "stream",
       "stream": "stdout",
       "text": [
        "\n",
        "Training Accuracy is:"
       ]
      },
      {
       "output_type": "stream",
       "stream": "stdout",
       "text": [
        " 0.972\n",
        "Evaluation Accuracy is:"
       ]
      },
      {
       "output_type": "stream",
       "stream": "stdout",
       "text": [
        " 0.966\n",
        "Epoch 20: training complete"
       ]
      },
      {
       "output_type": "stream",
       "stream": "stdout",
       "text": [
        "\n",
        "Training Accuracy is:"
       ]
      },
      {
       "output_type": "stream",
       "stream": "stdout",
       "text": [
        " 0.974\n",
        "Evaluation Accuracy is:"
       ]
      },
      {
       "output_type": "stream",
       "stream": "stdout",
       "text": [
        " 0.968\n",
        "Epoch 0: training complete"
       ]
      },
      {
       "output_type": "stream",
       "stream": "stdout",
       "text": [
        "\n",
        "Training Accuracy is:"
       ]
      },
      {
       "output_type": "stream",
       "stream": "stdout",
       "text": [
        " 0.968\n",
        "Evaluation Accuracy is:"
       ]
      },
      {
       "output_type": "stream",
       "stream": "stdout",
       "text": [
        " 0.965\n",
        "Epoch 10: training complete"
       ]
      },
      {
       "output_type": "stream",
       "stream": "stdout",
       "text": [
        "\n",
        "Training Accuracy is:"
       ]
      },
      {
       "output_type": "stream",
       "stream": "stdout",
       "text": [
        " 0.959\n",
        "Evaluation Accuracy is:"
       ]
      },
      {
       "output_type": "stream",
       "stream": "stdout",
       "text": [
        " 0.961\n",
        "Epoch 20: training complete"
       ]
      },
      {
       "output_type": "stream",
       "stream": "stdout",
       "text": [
        "\n",
        "Training Accuracy is:"
       ]
      },
      {
       "output_type": "stream",
       "stream": "stdout",
       "text": [
        " 0.958\n",
        "Evaluation Accuracy is:"
       ]
      },
      {
       "output_type": "stream",
       "stream": "stdout",
       "text": [
        " 0.961\n",
        "Epoch 0: training complete"
       ]
      },
      {
       "output_type": "stream",
       "stream": "stdout",
       "text": [
        "\n",
        "Training Accuracy is:"
       ]
      },
      {
       "output_type": "stream",
       "stream": "stdout",
       "text": [
        " 0.941\n",
        "Evaluation Accuracy is:"
       ]
      },
      {
       "output_type": "stream",
       "stream": "stdout",
       "text": [
        " 0.948\n",
        "Epoch 10: training complete"
       ]
      },
      {
       "output_type": "stream",
       "stream": "stdout",
       "text": [
        "\n",
        "Training Accuracy is:"
       ]
      },
      {
       "output_type": "stream",
       "stream": "stdout",
       "text": [
        " 0.929\n",
        "Evaluation Accuracy is:"
       ]
      },
      {
       "output_type": "stream",
       "stream": "stdout",
       "text": [
        " 0.934\n",
        "Epoch 20: training complete"
       ]
      },
      {
       "output_type": "stream",
       "stream": "stdout",
       "text": [
        "\n",
        "Training Accuracy is:"
       ]
      },
      {
       "output_type": "stream",
       "stream": "stdout",
       "text": [
        " 0.931\n",
        "Evaluation Accuracy is:"
       ]
      },
      {
       "output_type": "stream",
       "stream": "stdout",
       "text": [
        " 0.937\n",
        "Epoch 0: training complete"
       ]
      },
      {
       "output_type": "stream",
       "stream": "stdout",
       "text": [
        "\n",
        "Training Accuracy is:"
       ]
      },
      {
       "output_type": "stream",
       "stream": "stdout",
       "text": [
        " 0.845\n",
        "Evaluation Accuracy is:"
       ]
      },
      {
       "output_type": "stream",
       "stream": "stdout",
       "text": [
        " 0.861\n",
        "Epoch 10: training complete"
       ]
      },
      {
       "output_type": "stream",
       "stream": "stdout",
       "text": [
        "\n",
        "Training Accuracy is:"
       ]
      },
      {
       "output_type": "stream",
       "stream": "stdout",
       "text": [
        " 0.817\n",
        "Evaluation Accuracy is:"
       ]
      },
      {
       "output_type": "stream",
       "stream": "stdout",
       "text": [
        " 0.836\n",
        "Epoch 20: training complete"
       ]
      },
      {
       "output_type": "stream",
       "stream": "stdout",
       "text": [
        "\n",
        "Training Accuracy is:"
       ]
      },
      {
       "output_type": "stream",
       "stream": "stdout",
       "text": [
        " 0.851\n",
        "Evaluation Accuracy is:"
       ]
      },
      {
       "output_type": "stream",
       "stream": "stdout",
       "text": [
        " 0.867\n"
       ]
      }
     ],
     "prompt_number": 77
    },
    {
     "cell_type": "code",
     "collapsed": false,
     "input": [
      "# Checking training costs and test costs\n",
      "evaluation_costs = []\n",
      "training_costs = []\n",
      "for lmbda in lmbdas:\n",
      "    print 'SGD for Lambda:',lmbda\n",
      "    ec, _, tc, _ = net.StochasticGradientDescent(training_data, epochs, mini_batch_size,\n",
      "                                                 eta, lmbda=lmbda, \n",
      "                                                 evaluation_data=validation_data,\n",
      "                                                 monitor_evaluation_cost=True,\n",
      "                                                 monitor_training_cost=True)\n",
      "    evaluation_costs.append(ec)\n",
      "    training_costs.append(tc)"
     ],
     "language": "python",
     "metadata": {},
     "outputs": [
      {
       "output_type": "stream",
       "stream": "stdout",
       "text": [
        "Epoch 0: training complete\n",
        "Training cost is:"
       ]
      },
      {
       "output_type": "stream",
       "stream": "stdout",
       "text": [
        " 0.523262347311\n",
        "Evaluation cost is:"
       ]
      },
      {
       "output_type": "stream",
       "stream": "stdout",
       "text": [
        " 0.501306546649\n",
        "Epoch 10: training complete"
       ]
      },
      {
       "output_type": "stream",
       "stream": "stdout",
       "text": [
        "\n",
        "Training cost is:"
       ]
      },
      {
       "output_type": "stream",
       "stream": "stdout",
       "text": [
        " 0.236949572614\n",
        "Evaluation cost is:"
       ]
      },
      {
       "output_type": "stream",
       "stream": "stdout",
       "text": [
        " 0.316332535062\n",
        "Epoch 20: training complete"
       ]
      },
      {
       "output_type": "stream",
       "stream": "stdout",
       "text": [
        "\n",
        "Training cost is:"
       ]
      },
      {
       "output_type": "stream",
       "stream": "stdout",
       "text": [
        " 0.188265612113\n",
        "Evaluation cost is:"
       ]
      },
      {
       "output_type": "stream",
       "stream": "stdout",
       "text": [
        " 0.319383042206\n",
        "Epoch 0: training complete"
       ]
      },
      {
       "output_type": "stream",
       "stream": "stdout",
       "text": [
        "\n",
        "Training cost is:"
       ]
      },
      {
       "output_type": "stream",
       "stream": "stdout",
       "text": [
        " 0.193223586261\n",
        "Evaluation cost is:"
       ]
      },
      {
       "output_type": "stream",
       "stream": "stdout",
       "text": [
        " 0.478356017353\n",
        "Epoch 10: training complete"
       ]
      },
      {
       "output_type": "stream",
       "stream": "stdout",
       "text": [
        "\n",
        "Training cost is:"
       ]
      },
      {
       "output_type": "stream",
       "stream": "stdout",
       "text": [
        " 0.183438002852\n",
        "Evaluation cost is:"
       ]
      },
      {
       "output_type": "stream",
       "stream": "stdout",
       "text": [
        " 0.498481937204\n",
        "Epoch 20: training complete"
       ]
      },
      {
       "output_type": "stream",
       "stream": "stdout",
       "text": [
        "\n",
        "Training cost is:"
       ]
      },
      {
       "output_type": "stream",
       "stream": "stdout",
       "text": [
        " 0.176085217037\n",
        "Evaluation cost is:"
       ]
      },
      {
       "output_type": "stream",
       "stream": "stdout",
       "text": [
        " 0.51257522191\n",
        "Epoch 0: training complete"
       ]
      },
      {
       "output_type": "stream",
       "stream": "stdout",
       "text": [
        "\n",
        "Training cost is:"
       ]
      },
      {
       "output_type": "stream",
       "stream": "stdout",
       "text": [
        " 0.276486515656\n",
        "Evaluation cost is:"
       ]
      },
      {
       "output_type": "stream",
       "stream": "stdout",
       "text": [
        " 1.02016025863\n",
        "Epoch 10: training complete"
       ]
      },
      {
       "output_type": "stream",
       "stream": "stdout",
       "text": [
        "\n",
        "Training cost is:"
       ]
      },
      {
       "output_type": "stream",
       "stream": "stdout",
       "text": [
        " 0.261090509698\n",
        "Evaluation cost is:"
       ]
      },
      {
       "output_type": "stream",
       "stream": "stdout",
       "text": [
        " 0.862695287935\n",
        "Epoch 20: training complete"
       ]
      },
      {
       "output_type": "stream",
       "stream": "stdout",
       "text": [
        "\n",
        "Training cost is:"
       ]
      },
      {
       "output_type": "stream",
       "stream": "stdout",
       "text": [
        " 0.258256867826\n",
        "Evaluation cost is:"
       ]
      },
      {
       "output_type": "stream",
       "stream": "stdout",
       "text": [
        " 0.795774996337\n",
        "Epoch 0: training complete"
       ]
      },
      {
       "output_type": "stream",
       "stream": "stdout",
       "text": [
        "\n",
        "Training cost is:"
       ]
      },
      {
       "output_type": "stream",
       "stream": "stdout",
       "text": [
        " 0.319307695847\n",
        "Evaluation cost is:"
       ]
      },
      {
       "output_type": "stream",
       "stream": "stdout",
       "text": [
        " 1.07897710484\n",
        "Epoch 10: training complete"
       ]
      },
      {
       "output_type": "stream",
       "stream": "stdout",
       "text": [
        "\n",
        "Training cost is:"
       ]
      },
      {
       "output_type": "stream",
       "stream": "stdout",
       "text": [
        " 0.301684489339\n",
        "Evaluation cost is:"
       ]
      },
      {
       "output_type": "stream",
       "stream": "stdout",
       "text": [
        " 0.914270446817\n",
        "Epoch 20: training complete"
       ]
      },
      {
       "output_type": "stream",
       "stream": "stdout",
       "text": [
        "\n",
        "Training cost is:"
       ]
      },
      {
       "output_type": "stream",
       "stream": "stdout",
       "text": [
        " 0.298482668236\n",
        "Evaluation cost is:"
       ]
      },
      {
       "output_type": "stream",
       "stream": "stdout",
       "text": [
        " 0.867194352507\n",
        "Epoch 0: training complete"
       ]
      },
      {
       "output_type": "stream",
       "stream": "stdout",
       "text": [
        "\n",
        "Training cost is:"
       ]
      },
      {
       "output_type": "stream",
       "stream": "stdout",
       "text": [
        " 0.42364729186\n",
        "Evaluation cost is:"
       ]
      },
      {
       "output_type": "stream",
       "stream": "stdout",
       "text": [
        " 1.36903250555\n",
        "Epoch 10: training complete"
       ]
      },
      {
       "output_type": "stream",
       "stream": "stdout",
       "text": [
        "\n",
        "Training cost is:"
       ]
      },
      {
       "output_type": "stream",
       "stream": "stdout",
       "text": [
        " 0.395115595984\n",
        "Evaluation cost is:"
       ]
      },
      {
       "output_type": "stream",
       "stream": "stdout",
       "text": [
        " 1.08929778998\n",
        "Epoch 20: training complete"
       ]
      },
      {
       "output_type": "stream",
       "stream": "stdout",
       "text": [
        "\n",
        "Training cost is:"
       ]
      },
      {
       "output_type": "stream",
       "stream": "stdout",
       "text": [
        " 0.384442149321\n",
        "Evaluation cost is:"
       ]
      },
      {
       "output_type": "stream",
       "stream": "stdout",
       "text": [
        " 1.04380781299\n",
        "Epoch 0: training complete"
       ]
      },
      {
       "output_type": "stream",
       "stream": "stdout",
       "text": [
        "\n",
        "Training cost is:"
       ]
      },
      {
       "output_type": "stream",
       "stream": "stdout",
       "text": [
        " 0.624306916655\n",
        "Evaluation cost is:"
       ]
      },
      {
       "output_type": "stream",
       "stream": "stdout",
       "text": [
        " 2.02749856612\n",
        "Epoch 10: training complete"
       ]
      },
      {
       "output_type": "stream",
       "stream": "stdout",
       "text": [
        "\n",
        "Training cost is:"
       ]
      },
      {
       "output_type": "stream",
       "stream": "stdout",
       "text": [
        " 0.5899881207\n",
        "Evaluation cost is:"
       ]
      },
      {
       "output_type": "stream",
       "stream": "stdout",
       "text": [
        " 1.55599359923\n",
        "Epoch 20: training complete"
       ]
      },
      {
       "output_type": "stream",
       "stream": "stdout",
       "text": [
        "\n",
        "Training cost is:"
       ]
      },
      {
       "output_type": "stream",
       "stream": "stdout",
       "text": [
        " 0.587675422663\n",
        "Evaluation cost is:"
       ]
      },
      {
       "output_type": "stream",
       "stream": "stdout",
       "text": [
        " 1.53900695761\n",
        "Epoch 0: training complete"
       ]
      },
      {
       "output_type": "stream",
       "stream": "stdout",
       "text": [
        "\n",
        "Training cost is:"
       ]
      },
      {
       "output_type": "stream",
       "stream": "stdout",
       "text": [
        " 0.958954575628\n",
        "Evaluation cost is:"
       ]
      },
      {
       "output_type": "stream",
       "stream": "stdout",
       "text": [
        " 2.69926524223\n",
        "Epoch 10: training complete"
       ]
      },
      {
       "output_type": "stream",
       "stream": "stdout",
       "text": [
        "\n",
        "Training cost is:"
       ]
      },
      {
       "output_type": "stream",
       "stream": "stdout",
       "text": [
        " 0.949939556111\n",
        "Evaluation cost is:"
       ]
      },
      {
       "output_type": "stream",
       "stream": "stdout",
       "text": [
        " 2.45558751526\n",
        "Epoch 20: training complete"
       ]
      },
      {
       "output_type": "stream",
       "stream": "stdout",
       "text": [
        "\n",
        "Training cost is:"
       ]
      },
      {
       "output_type": "stream",
       "stream": "stdout",
       "text": [
        " 0.950100630176\n",
        "Evaluation cost is:"
       ]
      },
      {
       "output_type": "stream",
       "stream": "stdout",
       "text": [
        " 2.43867671975\n",
        "Epoch 0: training complete"
       ]
      },
      {
       "output_type": "stream",
       "stream": "stdout",
       "text": [
        "\n",
        "Training cost is:"
       ]
      },
      {
       "output_type": "stream",
       "stream": "stdout",
       "text": [
        " 2.29578272423\n",
        "Evaluation cost is:"
       ]
      },
      {
       "output_type": "stream",
       "stream": "stdout",
       "text": [
        " 5.40603288509\n",
        "Epoch 10: training complete"
       ]
      },
      {
       "output_type": "stream",
       "stream": "stdout",
       "text": [
        "\n",
        "Training cost is:"
       ]
      },
      {
       "output_type": "stream",
       "stream": "stdout",
       "text": [
        " 2.28364646225\n",
        "Evaluation cost is:"
       ]
      },
      {
       "output_type": "stream",
       "stream": "stdout",
       "text": [
        " 5.29984493145\n",
        "Epoch 20: training complete"
       ]
      },
      {
       "output_type": "stream",
       "stream": "stdout",
       "text": [
        "\n",
        "Training cost is:"
       ]
      },
      {
       "output_type": "stream",
       "stream": "stdout",
       "text": [
        " 2.28245964364\n",
        "Evaluation cost is:"
       ]
      },
      {
       "output_type": "stream",
       "stream": "stdout",
       "text": [
        " 5.32749080219\n"
       ]
      }
     ],
     "prompt_number": 78
    },
    {
     "cell_type": "code",
     "collapsed": false,
     "input": [
      "# Plotting Training Accuracies varying with lmbdas - regularization parameter\n",
      "plot_overlay_accuracy_values(training_accuracies, lmbdas, 'Lambda', \n",
      "                    'Accuracy (%) on Training Data', epochs, 0, 0.8)\n",
      "\n",
      "# Plotting Test Accuracies varying with lmbdas\n",
      "plot_overlay_accuracy_values(evaluation_accuracies, lmbdas, 'Lambda', \n",
      "                    'Accuracy (%) on Test Data', epochs, 0, 0.8)\n",
      "\n",
      "# Plotting Training Costs varying with lmbdas\n",
      "plot_overlay_cost_values(training_costs, lmbdas, 'Lambda', \n",
      "                    'Cost (%) on Training Data', epochs, 0, 0, 3.0)\n",
      "\n",
      "# Plotting Training Accuracies varying with lmbdas\n",
      "plot_overlay_cost_values(evaluation_costs, lmbdas, 'Lambda', \n",
      "                    'Cost (%) on Test Data', epochs, 0, 0.2, 6.0)"
     ],
     "language": "python",
     "metadata": {},
     "outputs": [],
     "prompt_number": 91
    },
    {
     "cell_type": "code",
     "collapsed": false,
     "input": [
      "# Chaning eta's, keeping all others constant\n",
      "# Calculating training, test accuracies\n",
      "epochs = 30\n",
      "mini_batch_size = 10\n",
      "lmbda = 0.5\n",
      "net = Network([784, 30, 10])\n",
      "etas = [0.001, 0.03, 0.1, 0.3, 1.0, 3.0, 5.0, 10.0]\n",
      "evaluation_accuracies = []\n",
      "training_accuracies = []\n",
      "for eta in etas:\n",
      "    print 'Eta:',eta\n",
      "    _, ea, _, ta = net.StochasticGradientDescent(training_data, epochs, mini_batch_size, \n",
      "                                                 eta, lmbda=lmbda, \n",
      "                                                 evaluation_data=validation_data,\n",
      "                                                 monitor_evaluation_accuracy=True,\n",
      "                                                 monitor_training_accuracy=True)\n",
      "    evaluation_accuracies.append(ea)\n",
      "    training_accuracies.append(ta)"
     ],
     "language": "python",
     "metadata": {},
     "outputs": [
      {
       "output_type": "stream",
       "stream": "stdout",
       "text": [
        "Epoch 0: training complete\n",
        "Training Accuracy is:"
       ]
      },
      {
       "output_type": "stream",
       "stream": "stdout",
       "text": [
        " 0.514\n",
        "Evaluation Accuracy is:"
       ]
      },
      {
       "output_type": "stream",
       "stream": "stdout",
       "text": [
        " 0.536\n",
        "Epoch 10: training complete"
       ]
      },
      {
       "output_type": "stream",
       "stream": "stdout",
       "text": [
        "\n",
        "Training Accuracy is:"
       ]
      },
      {
       "output_type": "stream",
       "stream": "stdout",
       "text": [
        " 0.844\n",
        "Evaluation Accuracy is:"
       ]
      },
      {
       "output_type": "stream",
       "stream": "stdout",
       "text": [
        " 0.859\n",
        "Epoch 20: training complete"
       ]
      },
      {
       "output_type": "stream",
       "stream": "stdout",
       "text": [
        "\n",
        "Training Accuracy is:"
       ]
      },
      {
       "output_type": "stream",
       "stream": "stdout",
       "text": [
        " 0.881\n",
        "Evaluation Accuracy is:"
       ]
      },
      {
       "output_type": "stream",
       "stream": "stdout",
       "text": [
        " 0.893\n",
        "Epoch 0: training complete"
       ]
      },
      {
       "output_type": "stream",
       "stream": "stdout",
       "text": [
        "\n",
        "Training Accuracy is:"
       ]
      },
      {
       "output_type": "stream",
       "stream": "stdout",
       "text": [
        " 0.912\n",
        "Evaluation Accuracy is:"
       ]
      },
      {
       "output_type": "stream",
       "stream": "stdout",
       "text": [
        " 0.921\n",
        "Epoch 10: training complete"
       ]
      },
      {
       "output_type": "stream",
       "stream": "stdout",
       "text": [
        "\n",
        "Training Accuracy is:"
       ]
      },
      {
       "output_type": "stream",
       "stream": "stdout",
       "text": [
        " 0.953\n",
        "Evaluation Accuracy is:"
       ]
      },
      {
       "output_type": "stream",
       "stream": "stdout",
       "text": [
        " 0.952\n",
        "Epoch 20: training complete"
       ]
      },
      {
       "output_type": "stream",
       "stream": "stdout",
       "text": [
        "\n",
        "Training Accuracy is:"
       ]
      },
      {
       "output_type": "stream",
       "stream": "stdout",
       "text": [
        " 0.966\n",
        "Evaluation Accuracy is:"
       ]
      },
      {
       "output_type": "stream",
       "stream": "stdout",
       "text": [
        " 0.96\n",
        "Epoch 0: training complete"
       ]
      },
      {
       "output_type": "stream",
       "stream": "stdout",
       "text": [
        "\n",
        "Training Accuracy is:"
       ]
      },
      {
       "output_type": "stream",
       "stream": "stdout",
       "text": [
        " 0.97\n",
        "Evaluation Accuracy is:"
       ]
      },
      {
       "output_type": "stream",
       "stream": "stdout",
       "text": [
        " 0.962\n",
        "Epoch 10: training complete"
       ]
      },
      {
       "output_type": "stream",
       "stream": "stdout",
       "text": [
        "\n",
        "Training Accuracy is:"
       ]
      },
      {
       "output_type": "stream",
       "stream": "stdout",
       "text": [
        " 0.979\n",
        "Evaluation Accuracy is:"
       ]
      },
      {
       "output_type": "stream",
       "stream": "stdout",
       "text": [
        " 0.964\n",
        "Epoch 20: training complete"
       ]
      },
      {
       "output_type": "stream",
       "stream": "stdout",
       "text": [
        "\n",
        "Training Accuracy is:"
       ]
      },
      {
       "output_type": "stream",
       "stream": "stdout",
       "text": [
        " 0.984\n",
        "Evaluation Accuracy is:"
       ]
      },
      {
       "output_type": "stream",
       "stream": "stdout",
       "text": [
        " 0.963\n",
        "Epoch 0: training complete"
       ]
      },
      {
       "output_type": "stream",
       "stream": "stdout",
       "text": [
        "\n",
        "Training Accuracy is:"
       ]
      },
      {
       "output_type": "stream",
       "stream": "stdout",
       "text": [
        " 0.977\n",
        "Evaluation Accuracy is:"
       ]
      },
      {
       "output_type": "stream",
       "stream": "stdout",
       "text": [
        " 0.959\n",
        "Epoch 10: training complete"
       ]
      },
      {
       "output_type": "stream",
       "stream": "stdout",
       "text": [
        "\n",
        "Training Accuracy is:"
       ]
      },
      {
       "output_type": "stream",
       "stream": "stdout",
       "text": [
        " 0.983\n",
        "Evaluation Accuracy is:"
       ]
      },
      {
       "output_type": "stream",
       "stream": "stdout",
       "text": [
        " 0.962\n",
        "Epoch 20: training complete"
       ]
      },
      {
       "output_type": "stream",
       "stream": "stdout",
       "text": [
        "\n",
        "Training Accuracy is:"
       ]
      },
      {
       "output_type": "stream",
       "stream": "stdout",
       "text": [
        " 0.985\n",
        "Evaluation Accuracy is:"
       ]
      },
      {
       "output_type": "stream",
       "stream": "stdout",
       "text": [
        " 0.962\n",
        "Epoch 0: training complete"
       ]
      },
      {
       "output_type": "stream",
       "stream": "stdout",
       "text": [
        "\n",
        "Training Accuracy is:"
       ]
      },
      {
       "output_type": "stream",
       "stream": "stdout",
       "text": [
        " 0.956\n",
        "Evaluation Accuracy is:"
       ]
      },
      {
       "output_type": "stream",
       "stream": "stdout",
       "text": [
        " 0.947\n",
        "Epoch 10: training complete"
       ]
      },
      {
       "output_type": "stream",
       "stream": "stdout",
       "text": [
        "\n",
        "Training Accuracy is:"
       ]
      },
      {
       "output_type": "stream",
       "stream": "stdout",
       "text": [
        " 0.97\n",
        "Evaluation Accuracy is:"
       ]
      },
      {
       "output_type": "stream",
       "stream": "stdout",
       "text": [
        " 0.959\n",
        "Epoch 20: training complete"
       ]
      },
      {
       "output_type": "stream",
       "stream": "stdout",
       "text": [
        "\n",
        "Training Accuracy is:"
       ]
      },
      {
       "output_type": "stream",
       "stream": "stdout",
       "text": [
        " 0.973\n",
        "Evaluation Accuracy is:"
       ]
      },
      {
       "output_type": "stream",
       "stream": "stdout",
       "text": [
        " 0.958\n",
        "Epoch 0: training complete"
       ]
      },
      {
       "output_type": "stream",
       "stream": "stdout",
       "text": [
        "\n",
        "Training Accuracy is:"
       ]
      },
      {
       "output_type": "stream",
       "stream": "stdout",
       "text": [
        " 0.92\n",
        "Evaluation Accuracy is:"
       ]
      },
      {
       "output_type": "stream",
       "stream": "stdout",
       "text": [
        " 0.92\n",
        "Epoch 10: training complete"
       ]
      },
      {
       "output_type": "stream",
       "stream": "stdout",
       "text": [
        "\n",
        "Training Accuracy is:"
       ]
      },
      {
       "output_type": "stream",
       "stream": "stdout",
       "text": [
        " 0.941\n",
        "Evaluation Accuracy is:"
       ]
      },
      {
       "output_type": "stream",
       "stream": "stdout",
       "text": [
        " 0.942\n",
        "Epoch 20: training complete"
       ]
      },
      {
       "output_type": "stream",
       "stream": "stdout",
       "text": [
        "\n",
        "Training Accuracy is:"
       ]
      },
      {
       "output_type": "stream",
       "stream": "stdout",
       "text": [
        " 0.927\n",
        "Evaluation Accuracy is:"
       ]
      },
      {
       "output_type": "stream",
       "stream": "stdout",
       "text": [
        " 0.929\n",
        "Epoch 0: training complete"
       ]
      },
      {
       "output_type": "stream",
       "stream": "stdout",
       "text": [
        "\n",
        "Training Accuracy is:"
       ]
      },
      {
       "output_type": "stream",
       "stream": "stdout",
       "text": [
        " 0.878\n",
        "Evaluation Accuracy is:"
       ]
      },
      {
       "output_type": "stream",
       "stream": "stdout",
       "text": [
        " 0.885\n",
        "Epoch 10: training complete"
       ]
      },
      {
       "output_type": "stream",
       "stream": "stdout",
       "text": [
        "\n",
        "Training Accuracy is:"
       ]
      },
      {
       "output_type": "stream",
       "stream": "stdout",
       "text": [
        " 0.907\n",
        "Evaluation Accuracy is:"
       ]
      },
      {
       "output_type": "stream",
       "stream": "stdout",
       "text": [
        " 0.913\n",
        "Epoch 20: training complete"
       ]
      },
      {
       "output_type": "stream",
       "stream": "stdout",
       "text": [
        "\n",
        "Training Accuracy is:"
       ]
      },
      {
       "output_type": "stream",
       "stream": "stdout",
       "text": [
        " 0.909\n",
        "Evaluation Accuracy is:"
       ]
      },
      {
       "output_type": "stream",
       "stream": "stdout",
       "text": [
        " 0.914\n",
        "Epoch 0: training complete"
       ]
      },
      {
       "output_type": "stream",
       "stream": "stdout",
       "text": [
        "\n",
        "Training Accuracy is:"
       ]
      },
      {
       "output_type": "stream",
       "stream": "stdout",
       "text": [
        " 0.851\n",
        "Evaluation Accuracy is:"
       ]
      },
      {
       "output_type": "stream",
       "stream": "stdout",
       "text": [
        " 0.862\n",
        "Epoch 10: training complete"
       ]
      },
      {
       "output_type": "stream",
       "stream": "stdout",
       "text": [
        "\n",
        "Training Accuracy is:"
       ]
      },
      {
       "output_type": "stream",
       "stream": "stdout",
       "text": [
        " 0.748\n",
        "Evaluation Accuracy is:"
       ]
      },
      {
       "output_type": "stream",
       "stream": "stdout",
       "text": [
        " 0.768\n",
        "Epoch 20: training complete"
       ]
      },
      {
       "output_type": "stream",
       "stream": "stdout",
       "text": [
        "\n",
        "Training Accuracy is:"
       ]
      },
      {
       "output_type": "stream",
       "stream": "stdout",
       "text": [
        " 0.839\n",
        "Evaluation Accuracy is:"
       ]
      },
      {
       "output_type": "stream",
       "stream": "stdout",
       "text": [
        " 0.847\n"
       ]
      },
      {
       "output_type": "stream",
       "stream": "stderr",
       "text": [
        "-c:3: RuntimeWarning: overflow encountered in exp\n"
       ]
      }
     ],
     "prompt_number": 92
    },
    {
     "cell_type": "code",
     "collapsed": false,
     "input": [
      "# Calculating training, test costs\n",
      "evaluation_costs = []\n",
      "training_costs = []\n",
      "for eta in etas:\n",
      "    print 'Eta:',eta\n",
      "    ec, _, tc, _ = net.StochasticGradientDescent(training_data, epochs, mini_batch_size,\n",
      "                                                 eta, lmbda=lmbda,\n",
      "                                                 evaluation_data=validation_data,\n",
      "                                                 monitor_evaluation_cost=True,\n",
      "                                                 monitor_training_cost=True)\n",
      "    evaluation_costs.append(ec)\n",
      "    training_costs.append(tc)"
     ],
     "language": "python",
     "metadata": {},
     "outputs": [
      {
       "output_type": "stream",
       "stream": "stdout",
       "text": [
        "Eta: 0.001\n",
        "Epoch 0: training complete"
       ]
      },
      {
       "output_type": "stream",
       "stream": "stdout",
       "text": [
        "\n",
        "Training cost is:"
       ]
      },
      {
       "output_type": "stream",
       "stream": "stdout",
       "text": [
        " 2.11100132048\n",
        "Evaluation cost is:"
       ]
      },
      {
       "output_type": "stream",
       "stream": "stdout",
       "text": [
        " 3.882358062\n",
        "Epoch 10: training complete"
       ]
      },
      {
       "output_type": "stream",
       "stream": "stdout",
       "text": [
        "\n",
        "Training cost is:"
       ]
      },
      {
       "output_type": "stream",
       "stream": "stdout",
       "text": [
        " 1.71069768597\n",
        "Evaluation cost is:"
       ]
      },
      {
       "output_type": "stream",
       "stream": "stdout",
       "text": [
        " 3.46274139627\n",
        "Epoch 20: training complete"
       ]
      },
      {
       "output_type": "stream",
       "stream": "stdout",
       "text": [
        "\n",
        "Training cost is:"
       ]
      },
      {
       "output_type": "stream",
       "stream": "stdout",
       "text": [
        " 1.64955136815\n",
        "Evaluation cost is:"
       ]
      },
      {
       "output_type": "stream",
       "stream": "stdout",
       "text": [
        " 3.39979894717\n",
        "Eta:"
       ]
      },
      {
       "output_type": "stream",
       "stream": "stdout",
       "text": [
        " 0.03\n",
        "Epoch 0: training complete"
       ]
      },
      {
       "output_type": "stream",
       "stream": "stdout",
       "text": [
        "\n",
        "Training cost is:"
       ]
      },
      {
       "output_type": "stream",
       "stream": "stdout",
       "text": [
        " 1.54350225442\n",
        "Evaluation cost is:"
       ]
      },
      {
       "output_type": "stream",
       "stream": "stdout",
       "text": [
        " 3.28951555419\n",
        "Epoch 10: training complete"
       ]
      },
      {
       "output_type": "stream",
       "stream": "stdout",
       "text": [
        "\n",
        "Training cost is:"
       ]
      },
      {
       "output_type": "stream",
       "stream": "stdout",
       "text": [
        " 1.31662653801\n",
        "Evaluation cost is:"
       ]
      },
      {
       "output_type": "stream",
       "stream": "stdout",
       "text": [
        " 3.01828984438\n",
        "Epoch 20: training complete"
       ]
      },
      {
       "output_type": "stream",
       "stream": "stdout",
       "text": [
        "\n",
        "Training cost is:"
       ]
      },
      {
       "output_type": "stream",
       "stream": "stdout",
       "text": [
        " 1.24522774277\n",
        "Evaluation cost is:"
       ]
      },
      {
       "output_type": "stream",
       "stream": "stdout",
       "text": [
        " 2.90399847567\n",
        "Eta:"
       ]
      },
      {
       "output_type": "stream",
       "stream": "stdout",
       "text": [
        " 0.1\n",
        "Epoch 0: training complete"
       ]
      },
      {
       "output_type": "stream",
       "stream": "stdout",
       "text": [
        "\n",
        "Training cost is:"
       ]
      },
      {
       "output_type": "stream",
       "stream": "stdout",
       "text": [
        " 1.20550785261\n",
        "Evaluation cost is:"
       ]
      },
      {
       "output_type": "stream",
       "stream": "stdout",
       "text": [
        " 2.8066645541\n",
        "Epoch 10: training complete"
       ]
      },
      {
       "output_type": "stream",
       "stream": "stdout",
       "text": [
        "\n",
        "Training cost is:"
       ]
      },
      {
       "output_type": "stream",
       "stream": "stdout",
       "text": [
        " 1.12623994954\n",
        "Evaluation cost is:"
       ]
      },
      {
       "output_type": "stream",
       "stream": "stdout",
       "text": [
        " 2.58228187775\n",
        "Epoch 20: training complete"
       ]
      },
      {
       "output_type": "stream",
       "stream": "stdout",
       "text": [
        "\n",
        "Training cost is:"
       ]
      },
      {
       "output_type": "stream",
       "stream": "stdout",
       "text": [
        " 1.06572011688\n",
        "Evaluation cost is:"
       ]
      },
      {
       "output_type": "stream",
       "stream": "stdout",
       "text": [
        " 2.39728075808\n",
        "Eta:"
       ]
      },
      {
       "output_type": "stream",
       "stream": "stdout",
       "text": [
        " 0.3\n",
        "Epoch 0: training complete"
       ]
      },
      {
       "output_type": "stream",
       "stream": "stdout",
       "text": [
        "\n",
        "Training cost is:"
       ]
      },
      {
       "output_type": "stream",
       "stream": "stdout",
       "text": [
        " 1.02497949497\n",
        "Evaluation cost is:"
       ]
      },
      {
       "output_type": "stream",
       "stream": "stdout",
       "text": [
        " 2.20705453711\n",
        "Epoch 10: training complete"
       ]
      },
      {
       "output_type": "stream",
       "stream": "stdout",
       "text": [
        "\n",
        "Training cost is:"
       ]
      },
      {
       "output_type": "stream",
       "stream": "stdout",
       "text": [
        " 0.891773762127\n",
        "Evaluation cost is:"
       ]
      },
      {
       "output_type": "stream",
       "stream": "stdout",
       "text": [
        " 1.80536548327\n",
        "Epoch 20: training complete"
       ]
      },
      {
       "output_type": "stream",
       "stream": "stdout",
       "text": [
        "\n",
        "Training cost is:"
       ]
      },
      {
       "output_type": "stream",
       "stream": "stdout",
       "text": [
        " 0.804333099459\n",
        "Evaluation cost is:"
       ]
      },
      {
       "output_type": "stream",
       "stream": "stdout",
       "text": [
        " 1.52922683891\n",
        "Eta:"
       ]
      },
      {
       "output_type": "stream",
       "stream": "stdout",
       "text": [
        " 1.0\n",
        "Epoch 0: training complete"
       ]
      },
      {
       "output_type": "stream",
       "stream": "stdout",
       "text": [
        "\n",
        "Training cost is:"
       ]
      },
      {
       "output_type": "stream",
       "stream": "stdout",
       "text": [
        " 0.789245083861\n",
        "Evaluation cost is:"
       ]
      },
      {
       "output_type": "stream",
       "stream": "stdout",
       "text": [
        " 1.33376616129\n",
        "Epoch 10: training complete"
       ]
      },
      {
       "output_type": "stream",
       "stream": "stdout",
       "text": [
        "\n",
        "Training cost is:"
       ]
      },
      {
       "output_type": "stream",
       "stream": "stdout",
       "text": [
        " 0.71242998108\n",
        "Evaluation cost is:"
       ]
      },
      {
       "output_type": "stream",
       "stream": "stdout",
       "text": [
        " 1.12167196263\n",
        "Epoch 20: training complete"
       ]
      },
      {
       "output_type": "stream",
       "stream": "stdout",
       "text": [
        "\n",
        "Training cost is:"
       ]
      },
      {
       "output_type": "stream",
       "stream": "stdout",
       "text": [
        " 0.737762255327\n",
        "Evaluation cost is:"
       ]
      },
      {
       "output_type": "stream",
       "stream": "stdout",
       "text": [
        " 1.12710313899\n",
        "Eta:"
       ]
      },
      {
       "output_type": "stream",
       "stream": "stdout",
       "text": [
        " 3.0\n",
        "Epoch 0: training complete"
       ]
      },
      {
       "output_type": "stream",
       "stream": "stdout",
       "text": [
        "\n",
        "Training cost is:"
       ]
      },
      {
       "output_type": "stream",
       "stream": "stdout",
       "text": [
        " 0.817862866156\n",
        "Evaluation cost is:"
       ]
      },
      {
       "output_type": "stream",
       "stream": "stdout",
       "text": [
        " 1.32893529569\n",
        "Epoch 10: training complete"
       ]
      },
      {
       "output_type": "stream",
       "stream": "stdout",
       "text": [
        "\n",
        "Training cost is:"
       ]
      },
      {
       "output_type": "stream",
       "stream": "stdout",
       "text": [
        " 0.931759835737\n",
        "Evaluation cost is:"
       ]
      },
      {
       "output_type": "stream",
       "stream": "stdout",
       "text": [
        " 1.58582882239\n",
        "Epoch 20: training complete"
       ]
      },
      {
       "output_type": "stream",
       "stream": "stdout",
       "text": [
        "\n",
        "Training cost is:"
       ]
      },
      {
       "output_type": "stream",
       "stream": "stdout",
       "text": [
        " 0.908089049675\n",
        "Evaluation cost is:"
       ]
      },
      {
       "output_type": "stream",
       "stream": "stdout",
       "text": [
        " 1.54676942816\n",
        "Eta:"
       ]
      },
      {
       "output_type": "stream",
       "stream": "stdout",
       "text": [
        " 5.0\n",
        "Epoch 0: training complete"
       ]
      },
      {
       "output_type": "stream",
       "stream": "stdout",
       "text": [
        "\n",
        "Training cost is:"
       ]
      },
      {
       "output_type": "stream",
       "stream": "stdout",
       "text": [
        " 1.32232814369\n",
        "Evaluation cost is:"
       ]
      },
      {
       "output_type": "stream",
       "stream": "stdout",
       "text": [
        " 2.10554429597\n",
        "Epoch 10: training complete"
       ]
      },
      {
       "output_type": "stream",
       "stream": "stdout",
       "text": [
        "\n",
        "Training cost is:"
       ]
      },
      {
       "output_type": "stream",
       "stream": "stdout",
       "text": [
        " 1.13677744736\n",
        "Evaluation cost is:"
       ]
      },
      {
       "output_type": "stream",
       "stream": "stdout",
       "text": [
        " 2.07004198931\n",
        "Epoch 20: training complete"
       ]
      },
      {
       "output_type": "stream",
       "stream": "stdout",
       "text": [
        "\n",
        "Training cost is:"
       ]
      },
      {
       "output_type": "stream",
       "stream": "stdout",
       "text": [
        " 1.18720604695\n",
        "Evaluation cost is:"
       ]
      },
      {
       "output_type": "stream",
       "stream": "stdout",
       "text": [
        " 2.13838956808\n",
        "Eta:"
       ]
      },
      {
       "output_type": "stream",
       "stream": "stdout",
       "text": [
        " 10.0\n",
        "Epoch 0: training complete"
       ]
      },
      {
       "output_type": "stream",
       "stream": "stdout",
       "text": [
        "\n",
        "Training cost is:"
       ]
      },
      {
       "output_type": "stream",
       "stream": "stdout",
       "text": [
        " 1.6201104564\n",
        "Evaluation cost is:"
       ]
      },
      {
       "output_type": "stream",
       "stream": "stdout",
       "text": [
        " 3.18756127663\n",
        "Epoch 10: training complete"
       ]
      },
      {
       "output_type": "stream",
       "stream": "stdout",
       "text": [
        "\n",
        "Training cost is:"
       ]
      },
      {
       "output_type": "stream",
       "stream": "stdout",
       "text": [
        " 1.58885853826\n",
        "Evaluation cost is:"
       ]
      },
      {
       "output_type": "stream",
       "stream": "stdout",
       "text": [
        " 3.28689516432\n",
        "Epoch 20: training complete"
       ]
      },
      {
       "output_type": "stream",
       "stream": "stdout",
       "text": [
        "\n",
        "Training cost is:"
       ]
      },
      {
       "output_type": "stream",
       "stream": "stdout",
       "text": [
        " 1.78807289823\n",
        "Evaluation cost is:"
       ]
      },
      {
       "output_type": "stream",
       "stream": "stdout",
       "text": [
        " 3.60525887752\n"
       ]
      }
     ],
     "prompt_number": 97
    },
    {
     "cell_type": "code",
     "collapsed": false,
     "input": [
      "# Plotting Training Accuracies varying with eras - learnig rate\n",
      "plot_overlay_accuracy_values(training_accuracies, etas, 'Eta', \n",
      "                    'Accuracy (%) on Training Data', epochs, 0, 0.8)\n",
      "\n",
      "# Plotting Test Accuracies varying with lmbdas\n",
      "plot_overlay_accuracy_values(evaluation_accuracies, etas, 'Eta', \n",
      "                    'Accuracy (%) on Test Data', epochs, 0, 0.8)\n",
      "\n",
      "# Plotting Training Costs varying with lmbdas\n",
      "plot_overlay_cost_values(training_costs, etas, 'Ea', \n",
      "                    'Cost (%) on Training Data', epochs, 0, 0.5, 2.0)\n",
      "\n",
      "# Plotting Training Accuracies varying with lmbdas\n",
      "plot_overlay_cost_values(evaluation_costs, etas, 'Eta', \n",
      "                    'Cost (%) on Test Data', epochs, 0, 0.8, 4.0)"
     ],
     "language": "python",
     "metadata": {},
     "outputs": [],
     "prompt_number": 98
    },
    {
     "cell_type": "code",
     "collapsed": false,
     "input": [
      "1/z"
     ],
     "language": "python",
     "metadata": {},
     "outputs": [
      {
       "metadata": {},
       "output_type": "pyout",
       "prompt_number": 124,
       "text": [
        "array([[-1.58674841,  0.58467532, -0.98045652],\n",
        "       [-0.69616967,  0.89857791,  6.50485199],\n",
        "       [-4.44451733, -0.5026101 ,  1.37859436]])"
       ]
      }
     ],
     "prompt_number": 124
    },
    {
     "cell_type": "code",
     "collapsed": false,
     "input": [
      "1/-0.63021963"
     ],
     "language": "python",
     "metadata": {},
     "outputs": [
      {
       "metadata": {},
       "output_type": "pyout",
       "prompt_number": 127,
       "text": [
        "-1.586748416579788"
       ]
      }
     ],
     "prompt_number": 127
    },
    {
     "cell_type": "code",
     "collapsed": false,
     "input": [],
     "language": "python",
     "metadata": {},
     "outputs": []
    }
   ],
   "metadata": {}
  }
 ]
}