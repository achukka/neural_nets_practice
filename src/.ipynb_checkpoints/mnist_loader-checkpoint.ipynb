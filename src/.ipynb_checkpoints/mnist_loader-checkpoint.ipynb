{
 "metadata": {
  "name": ""
 },
 "nbformat": 3,
 "nbformat_minor": 0,
 "worksheets": [
  {
   "cells": [
    {
     "cell_type": "code",
     "collapsed": false,
     "input": [
      "''' A Library to load the mnist image '''\n",
      "import cPickle\n",
      "import gzip"
     ],
     "language": "python",
     "metadata": {},
     "outputs": [],
     "prompt_number": 8
    },
    {
     "cell_type": "code",
     "collapsed": false,
     "input": [
      "import numpy as np"
     ],
     "language": "python",
     "metadata": {},
     "outputs": [],
     "prompt_number": 9
    },
    {
     "cell_type": "code",
     "collapsed": false,
     "input": [
      "''' A simple normal load function\n",
      "    Each image contains 28 * 28 pixels = 784 values. \n",
      "    Hence we would represent it as a vector of 784 values.\n",
      "    training_data - numpy array of 50,000 images\n",
      "    validation_data, test_data - numpy array of 10,000 images.\n",
      "    Note that both validation_data and test_data are the same in this case.\n",
      "'''\n",
      "def load_data():\n",
      "    fp = gzip.open('../data/mnist.pkl.gz', 'rb')\n",
      "    training_data, validation_data, test_data = cPickle.load(fp)\n",
      "    fp.close()\n",
      "    return (training_data, validation_data, test_data)"
     ],
     "language": "python",
     "metadata": {},
     "outputs": [],
     "prompt_number": 10
    },
    {
     "cell_type": "code",
     "collapsed": false,
     "input": [
      "''' The above input representation might not work for neural networks. \n",
      "    Hence we will modify it a little using the below function\n",
      "    A Wrapper for the normal load function\n",
      "'''\n",
      "def load_data_wrapper():\n",
      "    tr_data, vl_data, tst_data = load_data()\n",
      "    training_data_inputs = [np.reshape(x, (784, 1)) for x in tr_data[0]]\n",
      "    training_data_results = [vectorized(y) for y in tr_data[1]]\n",
      "    training_data = zip(training_data_inputs, training_data_results)\n",
      "    validation_inputs = [ np.reshape(x, (784, 1)) for x in vl_data[0]]\n",
      "    validation_data = zip(validation_inputs, vl_data[1])\n",
      "    test_inputs = [ np.reshape(x, (784, 1)) for x in tst_data[0]]\n",
      "    test_data = zip(test_inputs, tst_data[1])\n",
      "    return (training_data, validation_data, test_data)\n",
      "\n",
      "''' Returns a 10 dimensional vector with dth dimnesion set to 1.0 and rest are zero\n",
      "'''\n",
      "def vectorized(d):\n",
      "    vec = np.zeros((10, 1))\n",
      "    vec[d] = 1.0\n",
      "    return vec"
     ],
     "language": "python",
     "metadata": {},
     "outputs": [],
     "prompt_number": 11
    },
    {
     "cell_type": "code",
     "collapsed": false,
     "input": [
      "training_data, validation_data, test_data = load_data_wrapper()"
     ],
     "language": "python",
     "metadata": {},
     "outputs": [],
     "prompt_number": 12
    },
    {
     "cell_type": "code",
     "collapsed": false,
     "input": [
      "len(training_data), len(test_data), len(validation_data)"
     ],
     "language": "python",
     "metadata": {},
     "outputs": [
      {
       "metadata": {},
       "output_type": "pyout",
       "prompt_number": 13,
       "text": [
        "(50000, 10000, 10000)"
       ]
      }
     ],
     "prompt_number": 13
    },
    {
     "cell_type": "code",
     "collapsed": false,
     "input": [
      "test_data[0][1]"
     ],
     "language": "python",
     "metadata": {},
     "outputs": [
      {
       "metadata": {},
       "output_type": "pyout",
       "prompt_number": 15,
       "text": [
        "7"
       ]
      }
     ],
     "prompt_number": 15
    },
    {
     "cell_type": "code",
     "collapsed": false,
     "input": [
      "x,y = test_data[0]"
     ],
     "language": "python",
     "metadata": {},
     "outputs": [],
     "prompt_number": 16
    },
    {
     "cell_type": "code",
     "collapsed": false,
     "input": [
      "len(x)"
     ],
     "language": "python",
     "metadata": {},
     "outputs": [
      {
       "metadata": {},
       "output_type": "pyout",
       "prompt_number": 17,
       "text": [
        "784"
       ]
      }
     ],
     "prompt_number": 17
    },
    {
     "cell_type": "code",
     "collapsed": false,
     "input": [],
     "language": "python",
     "metadata": {},
     "outputs": []
    }
   ],
   "metadata": {}
  }
 ]
}