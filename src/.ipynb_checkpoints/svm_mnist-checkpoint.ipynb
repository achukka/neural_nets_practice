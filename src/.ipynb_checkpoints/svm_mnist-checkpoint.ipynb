{
 "metadata": {
  "name": ""
 },
 "nbformat": 3,
 "nbformat_minor": 0,
 "worksheets": [
  {
   "cells": [
    {
     "cell_type": "code",
     "collapsed": false,
     "input": [
      "# import mnist loader\n",
      "from mnist_loader import load_data"
     ],
     "language": "python",
     "metadata": {},
     "outputs": [],
     "prompt_number": 1
    },
    {
     "cell_type": "code",
     "collapsed": false,
     "input": [
      "# import svm from sklearn library\n",
      "from sklearn import svm"
     ],
     "language": "python",
     "metadata": {},
     "outputs": [],
     "prompt_number": 2
    },
    {
     "cell_type": "code",
     "collapsed": false,
     "input": [
      "# load data\n",
      "training_data, validation_data, test_data = load_data()\n",
      "len(training_data[1]), len(test_data)"
     ],
     "language": "python",
     "metadata": {},
     "outputs": [
      {
       "metadata": {},
       "output_type": "pyout",
       "prompt_number": 3,
       "text": [
        "(50000, 2)"
       ]
      }
     ],
     "prompt_number": 3
    },
    {
     "cell_type": "code",
     "collapsed": false,
     "input": [
      "# Define the classifier\n",
      "def classifier_nuSVC(kernel):\n",
      "    clf = svm.NuSVC(kernel=kernel)\n",
      "    # Fit the training data\n",
      "    clf.fit(training_data[0], training_data[1])\n",
      "    # Test\n",
      "    predicts = [ int(val) for val in clf.predict(test_data[0])]\n",
      "    accuracy = sum(int(val == y) for val,y in zip(predicts, test_data[1]))\n",
      "    print \"{0} values are correct out of {1}\".format(accuracy,len(test_data[1]))"
     ],
     "language": "python",
     "metadata": {},
     "outputs": [],
     "prompt_number": 4
    },
    {
     "cell_type": "code",
     "collapsed": false,
     "input": [
      "print 'Nu SVC with rbf kernel'\n",
      "classifier_nuSVC('rbf')"
     ],
     "language": "python",
     "metadata": {},
     "outputs": [],
     "prompt_number": "*"
    },
    {
     "cell_type": "code",
     "collapsed": false,
     "input": [
      "print 'Nu SVC with sigmoid kernel'\n",
      "classifier_nuSVC('sigmoid')"
     ],
     "language": "python",
     "metadata": {},
     "outputs": [],
     "prompt_number": "*"
    },
    {
     "cell_type": "code",
     "collapsed": false,
     "input": [
      "print 'Nu SVC with linear kernel'\n",
      "classifier_nuSVC('linear')"
     ],
     "language": "python",
     "metadata": {},
     "outputs": [],
     "prompt_number": "*"
    },
    {
     "cell_type": "code",
     "collapsed": false,
     "input": [
      "from sklearn import naive_bayes\n",
      "# Define the Gaussian Naive Bayes classifier\n",
      "def classifier_GaussianNB():\n",
      "    clf = naive_bayes.GaussianNB()\n",
      "    # Fit the training data\n",
      "    clf.fit(training_data[0], training_data[1])\n",
      "    # Test\n",
      "    predicts = [ int(val) for val in clf.predict(test_data[0])]\n",
      "    accuracy = sum(int(val == y) for val,y in zip(predicts, test_data[1]))\n",
      "    print \"{0} values are correct out of {1}\".format(accuracy,len(test_data[1]))"
     ],
     "language": "python",
     "metadata": {},
     "outputs": [],
     "prompt_number": 7
    },
    {
     "cell_type": "code",
     "collapsed": false,
     "input": [
      "print 'Gaussian NB'\n",
      "classifier_GaussianNB()"
     ],
     "language": "python",
     "metadata": {},
     "outputs": [
      {
       "output_type": "stream",
       "stream": "stdout",
       "text": [
        "Gaussian NB\n",
        "5662 values are correct out of 10000"
       ]
      },
      {
       "output_type": "stream",
       "stream": "stdout",
       "text": [
        "\n"
       ]
      }
     ],
     "prompt_number": 8
    },
    {
     "cell_type": "code",
     "collapsed": false,
     "input": [
      "# Define the linear svm classifier\n",
      "def classifier_linearSVM():\n",
      "    clf = svm.LinearSVC()\n",
      "    # Fit the training data\n",
      "    clf.fit(training_data[0], training_data[1])\n",
      "    # Test\n",
      "    predicts = [ int(val) for val in clf.predict(test_data[0])]\n",
      "    accuracy = sum(int(val == y) for val,y in zip(predicts, test_data[1]))\n",
      "    print \"{0} values are correct out of {1}\".format(accuracy,len(test_data[1]))"
     ],
     "language": "python",
     "metadata": {},
     "outputs": [],
     "prompt_number": "*"
    },
    {
     "cell_type": "code",
     "collapsed": false,
     "input": [
      "print 'Linear SVC'\n",
      "classifier_linearSVM()"
     ],
     "language": "python",
     "metadata": {},
     "outputs": []
    }
   ],
   "metadata": {}
  }
 ]
}