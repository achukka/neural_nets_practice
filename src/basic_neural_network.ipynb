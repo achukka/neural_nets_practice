{
 "metadata": {
  "name": "",
  "signature": "sha256:10d9e12a87f07e56d7beba0e11fccdba16616cf5771d503b0c4f356a5a115436"
 },
 "nbformat": 3,
 "nbformat_minor": 0,
 "worksheets": [
  {
   "cells": [
    {
     "cell_type": "code",
     "collapsed": false,
     "input": [
      "import numpy as np\n",
      "import random"
     ],
     "language": "python",
     "metadata": {},
     "outputs": [],
     "prompt_number": 4
    },
    {
     "cell_type": "code",
     "collapsed": false,
     "input": [
      "# Base Class of a Simple Neural Network\n",
      "class Network(object):\n",
      "    def __init__(self, sizes):\n",
      "        self.num_layers = len(sizes)\n",
      "        self.sizes = sizes\n",
      "        # np.radnom.rand is a gaussian with mean 0, variance 1\n",
      "        self.biases = [np.random.randn(y,1) for y in sizes[1:]]\n",
      "        self.weights = [np.random.randn(y, x)\n",
      "                        for x,y in zip(sizes[:-1], sizes[1:])]\n",
      "        self.val=0\n",
      "    # This is the feed forward operation of the net\n",
      "    def feedforward(self, a):\n",
      "        ''' Returns the output of the network. If 'a' is the input '''\n",
      "        for b,w in zip(self.biases, self.weights):\n",
      "            ''' a' = sigmoid(w.a + b) '''\n",
      "            a = sigmoid(np.dot(w, a) + b)\n",
      "        return a\n",
      "    # Let us define the Stochastic Gradient Descent method.\n",
      "    # The net uses SGD to learn the weights and biases\n",
      "    def StochasticGradientDescent(self, training_data, epochs, mini_batch_size, eta, test_data=None):\n",
      "        ''' \n",
      "            Trains the neural network using mini-batch stochastic gradient descent.\n",
      "            The training data is list od tuples (x,y) representing the training input and desired outputs\n",
      "            If test data is provided the network will be evaluated against after each epoch, \n",
      "            and partial progress is printed out. This is useful for tracking progress, \n",
      "            but things get slow substantially\n",
      "        '''\n",
      "        if test_data:\n",
      "            n_test = len(test_data)\n",
      "        n_train = len(training_data)\n",
      "        for epoch in xrange(epochs):\n",
      "            random.shuffle(training_data)\n",
      "            ''' Get the list of examples to train '''\n",
      "            mini_batches = [ training_data[it: it+mini_batch_size] \n",
      "                            for it in xrange(0, n_train, mini_batch_size)]\n",
      "            ''' Train each mini batch '''\n",
      "            for mini_batch in mini_batches:\n",
      "                self.update_mini_batch(mini_batch, eta)\n",
      "            if test_data:\n",
      "                print \"Epoch {0}: {1} / {2}\".format(epoch, self.evaluate(test_data), n_test)\n",
      "            else:\n",
      "                print \"Epoch {0} Complete\".format(epoch)\n",
      "                \n",
      "    # We have to tell the network, how to update the weights\n",
      "    def update_mini_batch(self, mini_batch, eta):\n",
      "        ''' \n",
      "            The mini batch is a list of (x,y) tuples. eta is the learning rate\n",
      "            For each tuple update the biases and weights using backpropagation\n",
      "        '''\n",
      "        \n",
      "        # Initialize the partial derivates to zero\n",
      "        Del_b = [np.zeros(b.shape) for b in self.biases]  # nala_b (partial derivates of b)\n",
      "        Del_w = [np.zeros(w.shape) for w in self.weights] # nala_w (partial derivates of w)\n",
      "        \n",
      "        # For input pair calculate the derivates using back propagation\n",
      "        for x, y in mini_batch:\n",
      "            delta_Del_b, delta_Del_w = self.backprop(x, y)\n",
      "            Del_b = [ nb + dnb for nb, dnb in zip(Del_b, delta_Del_b)]\n",
      "            Del_w = [ nw + dnw for nw, dnw in zip(Del_w, delta_Del_w)]\n",
      "        # Update final biases and weights\n",
      "        self.weights = [w - (eta/len(mini_batch))*nw \n",
      "                        for w, nw in zip(self.weights, Del_w) ]\n",
      "        self.biases = [b - (eta/len(mini_batch))*nb \n",
      "                       for b, nb in zip(self.biases, Del_b) ]\n",
      "    \n",
      "    # Back Propagation Algorithm\n",
      "    # Takes as an input (x,y) tuple and outputs a tuple(nabla_b, nabla_w) of np arrays\n",
      "    # nabla_b - the derivates of the cost function w.r.t the biases\n",
      "    # nabla_w - the derivates of the cost function w.r.t the weights\n",
      "    def backprop(self, x, y):\n",
      "        nabla_b = [np.zeros(b.shape) for b in self.biases]\n",
      "        nabla_w = [np.zeros(w.shape) for w in self.weights]\n",
      "        \n",
      "        # Feedforward\n",
      "        activation = x    # Activation of the input layer\n",
      "        activations = [x] # Store the list of activations layer by layer\n",
      "        latents = []      # store the list of latent variables z\n",
      "        for b, w in zip(self.biases, self.weights):\n",
      "            z = np.dot(w, activation) + b\n",
      "            latents.append(z)\n",
      "            activation = sigmoid(z)        \n",
      "            activations.append(activation)\n",
      "        \n",
      "        # Backward pass\n",
      "        delta = self.cost_derivative(activations[-1], y) * sigmoid_prime(latents[-1])\n",
      "        nabla_b[-1] = delta\n",
      "        nabla_w[-1] = np.dot(delta, activations[-2].transpose())\n",
      "        \n",
      "        # Now back propagate the error through all the layers\n",
      "        # Note that for the last layer, l = self.num_layers - 1, \n",
      "        # so we start from self.num_layers - 2 till layer 1 (i.e the second layer)\n",
      "        for l in xrange(2, self.num_layers):\n",
      "            z = latents[-l]\n",
      "            ap = sigmoid_prime(z)\n",
      "            delta = np.dot(self.weights[-l+1].transpose(), delta) * ap\n",
      "            nabla_b[-l] = delta\n",
      "            nabla_w[-l] = np.dot(delta, activations[-l-1].transpose())\n",
      "        return (nabla_b, nabla_w)\n",
      "    \n",
      "    # Define cost function for the neural network\n",
      "    def cost(self, output_activations, y):\n",
      "        return 0.5* np.linalg.norm(output_activations-y)**2\n",
      "    \n",
      "    # Define the cost derivate for the output unit\n",
      "    # Returns a vector of partial derivates (\\partial C_x/ \\partial a) \n",
      "    # for ouptut activation units\n",
      "    def cost_derivative(self, output_activations, y):\n",
      "        return (output_activations - y)\n",
      "    \n",
      "    # Evaluate the test data. The network output is assumed to be \n",
      "    # the index of neuron that has the highest activation\n",
      "    def evaluate(self, test_data):\n",
      "        test_results = [(np.argmax(self.feedforward(x)), y)\n",
      "                        for (x, y) in test_data]\n",
      "        return sum(int(x == y) for (x,y) in test_results)    \n",
      "# Let us define the activation function - sigmoid are also known as logistic units\n",
      "def sigmoid(z):\n",
      "    return 1.0/(1.0 + np.exp(-z))\n",
      "\n",
      "def sigmoid_prime(z):\n",
      "    return sigmoid(z)*(1 - sigmoid(z))"
     ],
     "language": "python",
     "metadata": {},
     "outputs": [],
     "prompt_number": 5
    },
    {
     "cell_type": "code",
     "collapsed": false,
     "input": [
      "# A neural net with a input layer (2 units), 1 hidden layer (5 units)\n",
      "#    and an output unit (1 unit)\n",
      "nn = Network([2, 5, 1])"
     ],
     "language": "python",
     "metadata": {},
     "outputs": [],
     "prompt_number": 6
    },
    {
     "cell_type": "code",
     "collapsed": false,
     "input": [
      "nn.weights"
     ],
     "language": "python",
     "metadata": {},
     "outputs": [
      {
       "metadata": {},
       "output_type": "pyout",
       "prompt_number": 36,
       "text": [
        "[array([[ 1.70378611, -0.12144018],\n",
        "       [-0.07018895,  0.1298896 ],\n",
        "       [ 0.01547437, -0.59009484],\n",
        "       [ 0.392229  , -0.14164378],\n",
        "       [ 0.77619369, -0.5998897 ]]),\n",
        " array([[ 0.14379288,  0.70872711, -0.04091082,  0.62495692,  1.49878505]])]"
       ]
      }
     ],
     "prompt_number": 36
    },
    {
     "cell_type": "code",
     "collapsed": false,
     "input": [
      "nn.biases"
     ],
     "language": "python",
     "metadata": {},
     "outputs": [
      {
       "metadata": {},
       "output_type": "pyout",
       "prompt_number": 37,
       "text": [
        "[array([[-1.12085795],\n",
        "       [ 2.67187174],\n",
        "       [-1.33207313],\n",
        "       [ 0.61149179],\n",
        "       [-1.17067099]]),\n",
        " array([[ 0.0467011]])]"
       ]
      }
     ],
     "prompt_number": 37
    },
    {
     "cell_type": "code",
     "collapsed": false,
     "input": [
      "import mnist_loader"
     ],
     "language": "python",
     "metadata": {},
     "outputs": [],
     "prompt_number": 1
    },
    {
     "cell_type": "code",
     "collapsed": false,
     "input": [
      "training_data, validation_data, test_data = mnist_loader.load_data_wrapper()"
     ],
     "language": "python",
     "metadata": {},
     "outputs": [],
     "prompt_number": 2
    },
    {
     "cell_type": "code",
     "collapsed": false,
     "input": [
      "net = Network([784, 30, 10])"
     ],
     "language": "python",
     "metadata": {},
     "outputs": [],
     "prompt_number": 7
    },
    {
     "cell_type": "code",
     "collapsed": false,
     "input": [
      "epochs = 30\n",
      "mini_batch_size = 10\n",
      "eta = 3.0"
     ],
     "language": "python",
     "metadata": {},
     "outputs": [],
     "prompt_number": 8
    },
    {
     "cell_type": "code",
     "collapsed": false,
     "input": [
      "net.StochasticGradientDescent(training_data, epochs, mini_batch_size, eta, test_data=test_data)"
     ],
     "language": "python",
     "metadata": {},
     "outputs": [
      {
       "output_type": "stream",
       "stream": "stdout",
       "text": [
        "Epoch 0: 9139 / 10000\n",
        "Epoch 1: 9296 / 10000"
       ]
      },
      {
       "output_type": "stream",
       "stream": "stdout",
       "text": [
        "\n",
        "Epoch 2: 9284 / 10000"
       ]
      },
      {
       "output_type": "stream",
       "stream": "stdout",
       "text": [
        "\n",
        "Epoch 3: 9317 / 10000"
       ]
      },
      {
       "output_type": "stream",
       "stream": "stdout",
       "text": [
        "\n",
        "Epoch 4: 9407 / 10000"
       ]
      },
      {
       "output_type": "stream",
       "stream": "stdout",
       "text": [
        "\n",
        "Epoch 5: 9426 / 10000"
       ]
      },
      {
       "output_type": "stream",
       "stream": "stdout",
       "text": [
        "\n",
        "Epoch 6: 9458 / 10000"
       ]
      },
      {
       "output_type": "stream",
       "stream": "stdout",
       "text": [
        "\n",
        "Epoch 7: 9464 / 10000"
       ]
      },
      {
       "output_type": "stream",
       "stream": "stdout",
       "text": [
        "\n",
        "Epoch 8: 9453 / 10000"
       ]
      },
      {
       "output_type": "stream",
       "stream": "stdout",
       "text": [
        "\n",
        "Epoch 9: 9471 / 10000"
       ]
      },
      {
       "output_type": "stream",
       "stream": "stdout",
       "text": [
        "\n",
        "Epoch 10: 9478 / 10000"
       ]
      },
      {
       "output_type": "stream",
       "stream": "stdout",
       "text": [
        "\n",
        "Epoch 11: 9492 / 10000"
       ]
      },
      {
       "output_type": "stream",
       "stream": "stdout",
       "text": [
        "\n",
        "Epoch 12: 9467 / 10000"
       ]
      },
      {
       "output_type": "stream",
       "stream": "stdout",
       "text": [
        "\n",
        "Epoch 13: 9476 / 10000"
       ]
      },
      {
       "output_type": "stream",
       "stream": "stdout",
       "text": [
        "\n",
        "Epoch 14: 9486 / 10000"
       ]
      },
      {
       "output_type": "stream",
       "stream": "stdout",
       "text": [
        "\n",
        "Epoch 15: 9468 / 10000"
       ]
      },
      {
       "output_type": "stream",
       "stream": "stdout",
       "text": [
        "\n",
        "Epoch 16: 9489 / 10000"
       ]
      },
      {
       "output_type": "stream",
       "stream": "stdout",
       "text": [
        "\n",
        "Epoch 17: 9505 / 10000"
       ]
      },
      {
       "output_type": "stream",
       "stream": "stdout",
       "text": [
        "\n",
        "Epoch 18: 9498 / 10000"
       ]
      },
      {
       "output_type": "stream",
       "stream": "stdout",
       "text": [
        "\n",
        "Epoch 19: 9489 / 10000"
       ]
      },
      {
       "output_type": "stream",
       "stream": "stdout",
       "text": [
        "\n",
        "Epoch 20: 9471 / 10000"
       ]
      },
      {
       "output_type": "stream",
       "stream": "stdout",
       "text": [
        "\n",
        "Epoch 21: 9484 / 10000"
       ]
      },
      {
       "output_type": "stream",
       "stream": "stdout",
       "text": [
        "\n",
        "Epoch 22: 9491 / 10000"
       ]
      },
      {
       "output_type": "stream",
       "stream": "stdout",
       "text": [
        "\n",
        "Epoch 23: 9507 / 10000"
       ]
      },
      {
       "output_type": "stream",
       "stream": "stdout",
       "text": [
        "\n",
        "Epoch 24: 9493 / 10000"
       ]
      },
      {
       "output_type": "stream",
       "stream": "stdout",
       "text": [
        "\n",
        "Epoch 25: 9503 / 10000"
       ]
      },
      {
       "output_type": "stream",
       "stream": "stdout",
       "text": [
        "\n",
        "Epoch 26: 9511 / 10000"
       ]
      },
      {
       "output_type": "stream",
       "stream": "stdout",
       "text": [
        "\n",
        "Epoch 27: 9490 / 10000"
       ]
      },
      {
       "output_type": "stream",
       "stream": "stdout",
       "text": [
        "\n",
        "Epoch 28: 9506 / 10000"
       ]
      },
      {
       "output_type": "stream",
       "stream": "stdout",
       "text": [
        "\n",
        "Epoch 29: 9515 / 10000"
       ]
      },
      {
       "output_type": "stream",
       "stream": "stdout",
       "text": [
        "\n"
       ]
      }
     ],
     "prompt_number": 9
    },
    {
     "cell_type": "code",
     "collapsed": false,
     "input": [
      "epochs = 50\n",
      "mini_batch_size = 20\n",
      "eta = 3.0"
     ],
     "language": "python",
     "metadata": {},
     "outputs": [],
     "prompt_number": 45
    },
    {
     "cell_type": "code",
     "collapsed": false,
     "input": [
      "net.StochasticGradientDescent(training_data, epochs, mini_batch_size, eta, test_data=test_data)"
     ],
     "language": "python",
     "metadata": {},
     "outputs": [
      {
       "output_type": "stream",
       "stream": "stdout",
       "text": [
        "Epoch 0: 9498 / 10000\n",
        "Epoch 1: 9481 / 10000"
       ]
      },
      {
       "output_type": "stream",
       "stream": "stdout",
       "text": [
        "\n",
        "Epoch 2: 9487 / 10000"
       ]
      },
      {
       "output_type": "stream",
       "stream": "stdout",
       "text": [
        "\n",
        "Epoch 3: 9481 / 10000"
       ]
      },
      {
       "output_type": "stream",
       "stream": "stdout",
       "text": [
        "\n",
        "Epoch 4: 9483 / 10000"
       ]
      },
      {
       "output_type": "stream",
       "stream": "stdout",
       "text": [
        "\n",
        "Epoch 5: 9473 / 10000"
       ]
      },
      {
       "output_type": "stream",
       "stream": "stdout",
       "text": [
        "\n",
        "Epoch 6: 9488 / 10000"
       ]
      },
      {
       "output_type": "stream",
       "stream": "stdout",
       "text": [
        "\n",
        "Epoch 7: 9491 / 10000"
       ]
      },
      {
       "output_type": "stream",
       "stream": "stdout",
       "text": [
        "\n",
        "Epoch 8: 9474 / 10000"
       ]
      },
      {
       "output_type": "stream",
       "stream": "stdout",
       "text": [
        "\n",
        "Epoch 9: 9489 / 10000"
       ]
      },
      {
       "output_type": "stream",
       "stream": "stdout",
       "text": [
        "\n",
        "Epoch 10: 9475 / 10000"
       ]
      },
      {
       "output_type": "stream",
       "stream": "stdout",
       "text": [
        "\n",
        "Epoch 11: 9484 / 10000"
       ]
      },
      {
       "output_type": "stream",
       "stream": "stdout",
       "text": [
        "\n",
        "Epoch 12: 9482 / 10000"
       ]
      },
      {
       "output_type": "stream",
       "stream": "stdout",
       "text": [
        "\n",
        "Epoch 13: 9486 / 10000"
       ]
      },
      {
       "output_type": "stream",
       "stream": "stdout",
       "text": [
        "\n",
        "Epoch 14: 9491 / 10000"
       ]
      },
      {
       "output_type": "stream",
       "stream": "stdout",
       "text": [
        "\n",
        "Epoch 15: 9488 / 10000"
       ]
      },
      {
       "output_type": "stream",
       "stream": "stdout",
       "text": [
        "\n",
        "Epoch 16: 9484 / 10000"
       ]
      },
      {
       "output_type": "stream",
       "stream": "stdout",
       "text": [
        "\n",
        "Epoch 17: 9478 / 10000"
       ]
      },
      {
       "output_type": "stream",
       "stream": "stdout",
       "text": [
        "\n",
        "Epoch 18: 9476 / 10000"
       ]
      },
      {
       "output_type": "stream",
       "stream": "stdout",
       "text": [
        "\n",
        "Epoch 19: 9480 / 10000"
       ]
      },
      {
       "output_type": "stream",
       "stream": "stdout",
       "text": [
        "\n",
        "Epoch 20: 9494 / 10000"
       ]
      },
      {
       "output_type": "stream",
       "stream": "stdout",
       "text": [
        "\n",
        "Epoch 21: 9489 / 10000"
       ]
      },
      {
       "output_type": "stream",
       "stream": "stdout",
       "text": [
        "\n",
        "Epoch 22: 9482 / 10000"
       ]
      },
      {
       "output_type": "stream",
       "stream": "stdout",
       "text": [
        "\n",
        "Epoch 23: 9495 / 10000"
       ]
      },
      {
       "output_type": "stream",
       "stream": "stdout",
       "text": [
        "\n",
        "Epoch 24: 9483 / 10000"
       ]
      },
      {
       "output_type": "stream",
       "stream": "stdout",
       "text": [
        "\n",
        "Epoch 25: 9491 / 10000"
       ]
      },
      {
       "output_type": "stream",
       "stream": "stdout",
       "text": [
        "\n",
        "Epoch 26: 9482 / 10000"
       ]
      },
      {
       "output_type": "stream",
       "stream": "stdout",
       "text": [
        "\n",
        "Epoch 27: 9497 / 10000"
       ]
      },
      {
       "output_type": "stream",
       "stream": "stdout",
       "text": [
        "\n",
        "Epoch 28: 9490 / 10000"
       ]
      },
      {
       "output_type": "stream",
       "stream": "stdout",
       "text": [
        "\n",
        "Epoch 29: 9483 / 10000"
       ]
      },
      {
       "output_type": "stream",
       "stream": "stdout",
       "text": [
        "\n",
        "Epoch 30: 9495 / 10000"
       ]
      },
      {
       "output_type": "stream",
       "stream": "stdout",
       "text": [
        "\n",
        "Epoch 31: 9484 / 10000"
       ]
      },
      {
       "output_type": "stream",
       "stream": "stdout",
       "text": [
        "\n",
        "Epoch 32: 9487 / 10000"
       ]
      },
      {
       "output_type": "stream",
       "stream": "stdout",
       "text": [
        "\n",
        "Epoch 33: 9491 / 10000"
       ]
      },
      {
       "output_type": "stream",
       "stream": "stdout",
       "text": [
        "\n",
        "Epoch 34: 9495 / 10000"
       ]
      },
      {
       "output_type": "stream",
       "stream": "stdout",
       "text": [
        "\n",
        "Epoch 35: 9479 / 10000"
       ]
      },
      {
       "output_type": "stream",
       "stream": "stdout",
       "text": [
        "\n",
        "Epoch 36: 9488 / 10000"
       ]
      },
      {
       "output_type": "stream",
       "stream": "stdout",
       "text": [
        "\n",
        "Epoch 37: 9496 / 10000"
       ]
      },
      {
       "output_type": "stream",
       "stream": "stdout",
       "text": [
        "\n",
        "Epoch 38: 9488 / 10000"
       ]
      },
      {
       "output_type": "stream",
       "stream": "stdout",
       "text": [
        "\n",
        "Epoch 39: 9483 / 10000"
       ]
      },
      {
       "output_type": "stream",
       "stream": "stdout",
       "text": [
        "\n",
        "Epoch 40: 9481 / 10000"
       ]
      },
      {
       "output_type": "stream",
       "stream": "stdout",
       "text": [
        "\n",
        "Epoch 41: 9487 / 10000"
       ]
      },
      {
       "output_type": "stream",
       "stream": "stdout",
       "text": [
        "\n",
        "Epoch 42: 9482 / 10000"
       ]
      },
      {
       "output_type": "stream",
       "stream": "stdout",
       "text": [
        "\n",
        "Epoch 43: 9482 / 10000"
       ]
      },
      {
       "output_type": "stream",
       "stream": "stdout",
       "text": [
        "\n",
        "Epoch 44: 9494 / 10000"
       ]
      },
      {
       "output_type": "stream",
       "stream": "stdout",
       "text": [
        "\n",
        "Epoch 45: 9484 / 10000"
       ]
      },
      {
       "output_type": "stream",
       "stream": "stdout",
       "text": [
        "\n",
        "Epoch 46: 9481 / 10000"
       ]
      },
      {
       "output_type": "stream",
       "stream": "stdout",
       "text": [
        "\n",
        "Epoch 47: 9491 / 10000"
       ]
      },
      {
       "output_type": "stream",
       "stream": "stdout",
       "text": [
        "\n",
        "Epoch 48: 9489 / 10000"
       ]
      },
      {
       "output_type": "stream",
       "stream": "stdout",
       "text": [
        "\n",
        "Epoch 49: 9478 / 10000"
       ]
      },
      {
       "output_type": "stream",
       "stream": "stdout",
       "text": [
        "\n"
       ]
      }
     ],
     "prompt_number": 46
    },
    {
     "cell_type": "code",
     "collapsed": false,
     "input": [],
     "language": "python",
     "metadata": {},
     "outputs": []
    }
   ],
   "metadata": {}
  }
 ]
}