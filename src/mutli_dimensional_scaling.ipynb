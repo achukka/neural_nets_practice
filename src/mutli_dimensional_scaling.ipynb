{
 "metadata": {
  "name": ""
 },
 "nbformat": 3,
 "nbformat_minor": 0,
 "worksheets": [
  {
   "cells": [
    {
     "cell_type": "code",
     "collapsed": false,
     "input": [
      "import numpy as np\n"
     ],
     "language": "python",
     "metadata": {},
     "outputs": [],
     "prompt_number": 1
    },
    {
     "cell_type": "code",
     "collapsed": false,
     "input": [
      "d = np.eye(4,4)"
     ],
     "language": "python",
     "metadata": {},
     "outputs": [],
     "prompt_number": 2
    },
    {
     "cell_type": "code",
     "collapsed": false,
     "input": [
      "d"
     ],
     "language": "python",
     "metadata": {},
     "outputs": [
      {
       "metadata": {},
       "output_type": "pyout",
       "prompt_number": 3,
       "text": [
        "array([[ 1.,  0.,  0.,  0.],\n",
        "       [ 0.,  1.,  0.,  0.],\n",
        "       [ 0.,  0.,  1.,  0.],\n",
        "       [ 0.,  0.,  0.,  1.]])"
       ]
      }
     ],
     "prompt_number": 3
    },
    {
     "cell_type": "code",
     "collapsed": false,
     "input": [
      "d = 1 - d"
     ],
     "language": "python",
     "metadata": {},
     "outputs": [],
     "prompt_number": 4
    },
    {
     "cell_type": "code",
     "collapsed": false,
     "input": [
      "d"
     ],
     "language": "python",
     "metadata": {},
     "outputs": [
      {
       "metadata": {},
       "output_type": "pyout",
       "prompt_number": 5,
       "text": [
        "array([[ 0.,  1.,  1.,  1.],\n",
        "       [ 1.,  0.,  1.,  1.],\n",
        "       [ 1.,  1.,  0.,  1.],\n",
        "       [ 1.,  1.,  1.,  0.]])"
       ]
      }
     ],
     "prompt_number": 5
    },
    {
     "cell_type": "code",
     "collapsed": false,
     "input": [
      "n = 4\n"
     ],
     "language": "python",
     "metadata": {},
     "outputs": [],
     "prompt_number": 44
    },
    {
     "cell_type": "code",
     "collapsed": false,
     "input": [
      "J = np.eye(n) - 0.25*np.dot(np.ones((n,1)), np.ones((1,n)))"
     ],
     "language": "python",
     "metadata": {},
     "outputs": [],
     "prompt_number": 45
    },
    {
     "cell_type": "code",
     "collapsed": false,
     "input": [
      "J"
     ],
     "language": "python",
     "metadata": {},
     "outputs": [
      {
       "metadata": {},
       "output_type": "pyout",
       "prompt_number": 46,
       "text": [
        "array([[ 0.75, -0.25, -0.25, -0.25],\n",
        "       [-0.25,  0.75, -0.25, -0.25],\n",
        "       [-0.25, -0.25,  0.75, -0.25],\n",
        "       [-0.25, -0.25, -0.25,  0.75]])"
       ]
      }
     ],
     "prompt_number": 46
    },
    {
     "cell_type": "code",
     "collapsed": false,
     "input": [
      "b = -0.5*np.dot(J, np.dot(d, J))"
     ],
     "language": "python",
     "metadata": {},
     "outputs": [],
     "prompt_number": 47
    },
    {
     "cell_type": "code",
     "collapsed": false,
     "input": [
      "b"
     ],
     "language": "python",
     "metadata": {},
     "outputs": [
      {
       "metadata": {},
       "output_type": "pyout",
       "prompt_number": 48,
       "text": [
        "array([[ 0.375, -0.125, -0.125, -0.125],\n",
        "       [-0.125,  0.375, -0.125, -0.125],\n",
        "       [-0.125, -0.125,  0.375, -0.125],\n",
        "       [-0.125, -0.125, -0.125,  0.375]])"
       ]
      }
     ],
     "prompt_number": 48
    },
    {
     "cell_type": "code",
     "collapsed": false,
     "input": [
      "evals, eigen_vecs = np.linalg.eig(b)"
     ],
     "language": "python",
     "metadata": {},
     "outputs": [],
     "prompt_number": 66
    },
    {
     "cell_type": "code",
     "collapsed": false,
     "input": [
      "evals"
     ],
     "language": "python",
     "metadata": {},
     "outputs": [
      {
       "metadata": {},
       "output_type": "pyout",
       "prompt_number": 67,
       "text": [
        "array([  5.00000000e-01,  -1.38777878e-17,   5.00000000e-01,\n",
        "         5.00000000e-01])"
       ]
      }
     ],
     "prompt_number": 67
    },
    {
     "cell_type": "code",
     "collapsed": false,
     "input": [
      "eigen_vecs"
     ],
     "language": "python",
     "metadata": {},
     "outputs": [
      {
       "metadata": {},
       "output_type": "pyout",
       "prompt_number": 68,
       "text": [
        "array([[ 0.8660254 , -0.5       , -0.09465472,  0.22731548],\n",
        "       [-0.28867513, -0.5       ,  0.84315656, -0.32491751],\n",
        "       [-0.28867513, -0.5       , -0.37425092, -0.59849846],\n",
        "       [-0.28867513, -0.5       , -0.37425092,  0.69610048]])"
       ]
      }
     ],
     "prompt_number": 68
    },
    {
     "cell_type": "code",
     "collapsed": false,
     "input": [],
     "language": "python",
     "metadata": {},
     "outputs": [],
     "prompt_number": 76
    },
    {
     "cell_type": "code",
     "collapsed": false,
     "input": [
      "s = np.diag(evals)\n",
      "s"
     ],
     "language": "python",
     "metadata": {},
     "outputs": [
      {
       "metadata": {},
       "output_type": "pyout",
       "prompt_number": 77,
       "text": [
        "array([[ 0.5,  0. ,  0. ,  0. ],\n",
        "       [ 0. ,  0. ,  0. ,  0. ],\n",
        "       [ 0. ,  0. ,  0.5,  0. ],\n",
        "       [ 0. ,  0. ,  0. ,  0.5]])"
       ]
      }
     ],
     "prompt_number": 77
    },
    {
     "cell_type": "code",
     "collapsed": false,
     "input": [
      "x = np.dot(np.sqrt(s), eigen_vecs)\n",
      "x"
     ],
     "language": "python",
     "metadata": {},
     "outputs": [
      {
       "metadata": {},
       "output_type": "pyout",
       "prompt_number": 78,
       "text": [
        "array([[ 0.61237244, -0.35355339, -0.06693099,  0.16073632],\n",
        "       [ 0.        ,  0.        ,  0.        ,  0.        ],\n",
        "       [-0.20412415, -0.35355339, -0.26463536, -0.42320232],\n",
        "       [-0.20412415, -0.35355339, -0.26463536,  0.49221737]])"
       ]
      }
     ],
     "prompt_number": 78
    },
    {
     "cell_type": "code",
     "collapsed": false,
     "input": [
      "x = np.dot(np.sqrt(s), eigen_vecs.T)\n",
      "x"
     ],
     "language": "python",
     "metadata": {},
     "outputs": [
      {
       "metadata": {},
       "output_type": "pyout",
       "prompt_number": 79,
       "text": [
        "array([[ 0.61237244, -0.20412415, -0.20412415, -0.20412415],\n",
        "       [ 0.        ,  0.        ,  0.        ,  0.        ],\n",
        "       [-0.06693099,  0.59620172, -0.26463536, -0.26463536],\n",
        "       [ 0.16073632, -0.22975137, -0.42320232,  0.49221737]])"
       ]
      }
     ],
     "prompt_number": 79
    },
    {
     "cell_type": "code",
     "collapsed": false,
     "input": [
      "x"
     ],
     "language": "python",
     "metadata": {},
     "outputs": [
      {
       "metadata": {},
       "output_type": "pyout",
       "prompt_number": 80,
       "text": [
        "array([[ 0.61237244, -0.20412415, -0.20412415, -0.20412415],\n",
        "       [ 0.        ,  0.        ,  0.        ,  0.        ],\n",
        "       [-0.06693099,  0.59620172, -0.26463536, -0.26463536],\n",
        "       [ 0.16073632, -0.22975137, -0.42320232,  0.49221737]])"
       ]
      }
     ],
     "prompt_number": 80
    },
    {
     "cell_type": "code",
     "collapsed": false,
     "input": [],
     "language": "python",
     "metadata": {},
     "outputs": []
    }
   ],
   "metadata": {}
  }
 ]
}